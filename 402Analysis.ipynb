{
 "cells": [
  {
   "cell_type": "markdown",
   "id": "5eb52a40",
   "metadata": {},
   "source": [
    "## Lewis Signaling Game under Naturalistic Conditions"
   ]
  },
  {
   "cell_type": "code",
   "execution_count": 39,
   "id": "1cf0cfbc",
   "metadata": {},
   "outputs": [],
   "source": [
    "# Helper Function required for Analysis\n",
    "import matplotlib.pyplot as plt\n",
    "\n",
    "def failed_games(db):  ### Returns the numer of games where convention was not established\n",
    "    count = 0\n",
    "    i = 0 \n",
    "    for items in range(50): ### For model 2 we have 50 simulations\n",
    "            i = i + 1\n",
    "            label = str (i)\n",
    "            val = db[label][10]\n",
    "            if (val == \"No\"):\n",
    "                count = count + 1\n",
    "                count = count + 0\n",
    "    return (int(count))\n",
    "\n",
    "def failed_loops(db):  ### Returns the numer of games where convention was not established - step(ii)\n",
    "    count = 0\n",
    "    i = 0 \n",
    "    for items in range(50): ### For model 2 we have 50 simulations\n",
    "            i = i + 1\n",
    "            label = str (i)\n",
    "            val = db[label][10]\n",
    "            if (val == \"0\"):\n",
    "                count = count + 1\n",
    "                count = count + 0\n",
    "    return (int(count))\n",
    "\n",
    "def sum_simulations(db): ### Returns sum of # of loops it took for all the games where convention was established\n",
    "    add = 0\n",
    "    i = 0 \n",
    "    for items in range(50):\n",
    "        i = i + 1\n",
    "        label = str (i)\n",
    "        val = db[label][10]\n",
    "        add = add + int(float(val))\n",
    "    return int (add)\n",
    "\n",
    "def chart_games(x, y, t): ### To visualise the analysed data step (i)\n",
    "    fail1 = failed_games(x)\n",
    "    pass_game1 = 50 - fail1\n",
    "    fail2 = failed_games(y)\n",
    "    pass_game2 = 50 - fail2\n",
    "    fig = plt.figure()\n",
    "    ax = fig.add_axes([0,0,1,1])\n",
    "    category = [\"Without eavesdropping\",\"With eavesdropping\"]\n",
    "    students = [pass_game1 , pass_game2 ]\n",
    "    ax.bar(category,students)\n",
    "    ax.set_ylabel('Number of Succesful Games')\n",
    "    ax.set_title(t)\n",
    "    plt.show()\n",
    "\n",
    "def avg_games_required_convention(db): ### To find the average # of interaction it took for convention \n",
    "    a = int(failed_loops(db))\n",
    "    c = 50 - a\n",
    "    b = sum_simulations(db)\n",
    "    return float(b/c)\n",
    "\n",
    "def chart_Avergames(x, y, t):   ### To visualise the analysed data step (ii)\n",
    "    x1 = avg_games_required_convention(x)\n",
    "    y1 = avg_games_required_convention(y)\n",
    "    fig = plt.figure()\n",
    "    ax = fig.add_axes([0,0,1,1])\n",
    "    category = [\"Without eavesdropping\",\"With eavesdropping\"]\n",
    "    students = [x1, y1]\n",
    "    ax.bar(category,students)\n",
    "    ax.set_ylabel('Average Number of Games required for establishing Convention')\n",
    "    ax.set_title(t)\n",
    "    plt.show()\n",
    "\n",
    "def success_mean(db):   ### To return average final probability of success for Model 1's 100 simulations.\n",
    "    i=1\n",
    "    sum=0\n",
    "    for items in range(100):\n",
    "        tag = str(i)\n",
    "        i = i+1\n",
    "        sum = sum + float(db[tag][4])\n",
    "        avg = (sum/100)*100\n",
    "        return (avg)"
   ]
  },
  {
   "cell_type": "markdown",
   "id": "decd2cc4",
   "metadata": {},
   "source": [
    "### Motivation"
   ]
  },
  {
   "cell_type": "markdown",
   "id": "2425ecd0",
   "metadata": {},
   "source": [
    "Examining the performance of Lewis Signaling model under Naturalistic Conditions. This helps us examine whether the success of Lewis Signaling model is due to its assumptions or does it fare well even under the introduced naturalistic conditions."
   ]
  },
  {
   "cell_type": "markdown",
   "id": "84db327c",
   "metadata": {},
   "source": [
    "### Data"
   ]
  },
  {
   "cell_type": "markdown",
   "id": "2ddcbe51",
   "metadata": {},
   "source": [
    "Two models have been equipped for this reearch. Model 1 serves as a tool to examine traditional conditions while Model 2 to test for Naturalistic Conditions.  <br>\n",
    "Data was then  generated from the following model and its Naturalstic extension. The model can be found here: <a href=\"https://ccl.northwestern.edu/netlogo/models/SignalingGame\"> here</a>."
   ]
  },
  {
   "cell_type": "markdown",
   "id": "93b75f62",
   "metadata": {},
   "source": [
    "### Evaluation [Model 1]"
   ]
  },
  {
   "cell_type": "markdown",
   "id": "e75eaa27",
   "metadata": {},
   "source": [
    "Model 1 is evaluated by comparing the traditional Lewis Signaling model's (Model 1) results with past literature. This helps us establish confidence in our Lewis model while transitioning the model to naturalistic conditions. "
   ]
  },
  {
   "cell_type": "markdown",
   "id": "9e26d0ea",
   "metadata": {},
   "source": [
    "### Features of Model 1"
   ]
  },
  {
   "cell_type": "markdown",
   "id": "538e6df7",
   "metadata": {},
   "source": [
    "<b>Traditional Variables:</b>\n",
    "<ol>\n",
    "    <li>Number of Agents (num-agents): # of agents on the grid</li>\n",
    "    <li>Number of Signals (num-signals): # of signals sender possess</li>\n",
    "    <li>Number of States (num-states): # of signals world states</li>\n",
    "</ol>    "
   ]
  },
  {
   "cell_type": "markdown",
   "id": "9b282df3",
   "metadata": {},
   "source": [
    "### Importing libraries"
   ]
  },
  {
   "cell_type": "code",
   "execution_count": 40,
   "id": "063319ed",
   "metadata": {},
   "outputs": [],
   "source": [
    "import pandas as pd\n",
    "import numpy as np\n",
    "import matplotlib.pyplot as plt"
   ]
  },
  {
   "cell_type": "markdown",
   "id": "5c6934aa",
   "metadata": {},
   "source": [
    "## Evaluating result from Model 1"
   ]
  },
  {
   "cell_type": "markdown",
   "id": "b965f0b2",
   "metadata": {},
   "source": [
    "### Traditional 2State/2Signal Condition "
   ]
  },
  {
   "cell_type": "markdown",
   "id": "bb713fe7",
   "metadata": {},
   "source": [
    "<b>Looking at the dataset below for Biased Movement Traditional (2v2) condition, we can see:</b><br>\n",
    "<ol>\n",
    "    <li>[run number]: The number of the experimental run out of 50.</li>\n",
    "    <li>num-signals: The number of signals available to convey information.</li>\n",
    "    <li>num-states: The number of all possible states in the world. </li>\n",
    "    <li>steps: The number of internal loops it took out of total of 10,000 loops before establishing convention.</li>\n",
    "    <li>reporter: Provides us with the exact number of interaction or signaling games it took between agents before establishing convention. </li>\n",
    "     <li>final: Provides us with the final probability-of-success achieved within 10,000 loops. </li>\n",
    "         <li>mean: Provides us with the mean probability-of-success achieved within 10,000 loops. </li>\n",
    "    "
   ]
  },
  {
   "cell_type": "code",
   "execution_count": 41,
   "id": "1c48b225",
   "metadata": {
    "scrolled": true
   },
   "outputs": [
    {
     "name": "stderr",
     "output_type": "stream",
     "text": [
      "/var/folders/dj/6hlv9mw16vldgkjt5ncypff40000gn/T/ipykernel_4195/1121895697.py:1: DtypeWarning: Columns (0,1,2,3,4,5,6,7,8,9,10,11,12,13,14,15,16,17,18,19,20,21,22,23,24,25,26,27,28,29,30,31,32,33,34,35,36,37,38,39,40,41,42,43,44,45,46,47,48,49,50,51,52,53,54,55,56,57,58,59,60,61,62,63,64,65,66,67,68,69,70,71,72,73,74,75,76,77,78,79,80,81,82,83,84,85,86,87,88,89,90,91,92,93,94,95,96,97,98,99,100) have mixed types. Specify dtype option on import or set low_memory=False.\n",
      "  traditional_model1 = pd.read_csv(\"https://raw.githubusercontent.com/akhand227/lewisSignalingResults-analysis/main/data/traditional_signaling.csv\",  index_col = False)\n"
     ]
    },
    {
     "data": {
      "text/html": [
       "<div><div id=5496040b-e11e-478a-acbf-aa8ff9cabe69 style=\"display:none; background-color:#9D6CFF; color:white; width:200px; height:30px; padding-left:5px; border-radius:4px; flex-direction:row; justify-content:space-around; align-items:center;\" onmouseover=\"this.style.backgroundColor='#BA9BF8'\" onmouseout=\"this.style.backgroundColor='#9D6CFF'\" onclick=\"window.commands?.execute('create-mitosheet-from-dataframe-output');\">See Full Dataframe in Mito</div> <script> if (window.commands?.hasCommand('create-mitosheet-from-dataframe-output')) document.getElementById('5496040b-e11e-478a-acbf-aa8ff9cabe69').style.display = 'flex' </script> <table border=\"1\" class=\"dataframe\">\n",
       "  <thead>\n",
       "    <tr style=\"text-align: right;\">\n",
       "      <th></th>\n",
       "      <th>[run number]</th>\n",
       "      <th>1</th>\n",
       "      <th>2</th>\n",
       "      <th>3</th>\n",
       "      <th>4</th>\n",
       "      <th>5</th>\n",
       "      <th>6</th>\n",
       "      <th>7</th>\n",
       "      <th>8</th>\n",
       "      <th>9</th>\n",
       "      <th>...</th>\n",
       "      <th>91</th>\n",
       "      <th>92</th>\n",
       "      <th>93</th>\n",
       "      <th>94</th>\n",
       "      <th>95</th>\n",
       "      <th>96</th>\n",
       "      <th>97</th>\n",
       "      <th>98</th>\n",
       "      <th>99</th>\n",
       "      <th>100</th>\n",
       "    </tr>\n",
       "  </thead>\n",
       "  <tbody>\n",
       "    <tr>\n",
       "      <th>0</th>\n",
       "      <td>number-of-states</td>\n",
       "      <td>2</td>\n",
       "      <td>2</td>\n",
       "      <td>2</td>\n",
       "      <td>2</td>\n",
       "      <td>2</td>\n",
       "      <td>2</td>\n",
       "      <td>2</td>\n",
       "      <td>2</td>\n",
       "      <td>2</td>\n",
       "      <td>...</td>\n",
       "      <td>2</td>\n",
       "      <td>2</td>\n",
       "      <td>2</td>\n",
       "      <td>2</td>\n",
       "      <td>2</td>\n",
       "      <td>2</td>\n",
       "      <td>2</td>\n",
       "      <td>2</td>\n",
       "      <td>2</td>\n",
       "      <td>2</td>\n",
       "    </tr>\n",
       "    <tr>\n",
       "      <th>1</th>\n",
       "      <td>print-probabilities?</td>\n",
       "      <td>TRUE</td>\n",
       "      <td>TRUE</td>\n",
       "      <td>TRUE</td>\n",
       "      <td>TRUE</td>\n",
       "      <td>TRUE</td>\n",
       "      <td>TRUE</td>\n",
       "      <td>TRUE</td>\n",
       "      <td>TRUE</td>\n",
       "      <td>TRUE</td>\n",
       "      <td>...</td>\n",
       "      <td>TRUE</td>\n",
       "      <td>TRUE</td>\n",
       "      <td>TRUE</td>\n",
       "      <td>TRUE</td>\n",
       "      <td>TRUE</td>\n",
       "      <td>TRUE</td>\n",
       "      <td>TRUE</td>\n",
       "      <td>TRUE</td>\n",
       "      <td>TRUE</td>\n",
       "      <td>TRUE</td>\n",
       "    </tr>\n",
       "    <tr>\n",
       "      <th>2</th>\n",
       "      <td>number-of-signals</td>\n",
       "      <td>2</td>\n",
       "      <td>2</td>\n",
       "      <td>2</td>\n",
       "      <td>2</td>\n",
       "      <td>2</td>\n",
       "      <td>2</td>\n",
       "      <td>2</td>\n",
       "      <td>2</td>\n",
       "      <td>2</td>\n",
       "      <td>...</td>\n",
       "      <td>2</td>\n",
       "      <td>2</td>\n",
       "      <td>2</td>\n",
       "      <td>2</td>\n",
       "      <td>2</td>\n",
       "      <td>2</td>\n",
       "      <td>2</td>\n",
       "      <td>2</td>\n",
       "      <td>2</td>\n",
       "      <td>2</td>\n",
       "    </tr>\n",
       "    <tr>\n",
       "      <th>3</th>\n",
       "      <td>[reporter]</td>\n",
       "      <td>(precision (probability-of-success * 100) 2)</td>\n",
       "      <td>(precision (probability-of-success * 100) 2)</td>\n",
       "      <td>(precision (probability-of-success * 100) 2)</td>\n",
       "      <td>(precision (probability-of-success * 100) 2)</td>\n",
       "      <td>(precision (probability-of-success * 100) 2)</td>\n",
       "      <td>(precision (probability-of-success * 100) 2)</td>\n",
       "      <td>(precision (probability-of-success * 100) 2)</td>\n",
       "      <td>(precision (probability-of-success * 100) 2)</td>\n",
       "      <td>(precision (probability-of-success * 100) 2)</td>\n",
       "      <td>...</td>\n",
       "      <td>(precision (probability-of-success * 100) 2)</td>\n",
       "      <td>(precision (probability-of-success * 100) 2)</td>\n",
       "      <td>(precision (probability-of-success * 100) 2)</td>\n",
       "      <td>(precision (probability-of-success * 100) 2)</td>\n",
       "      <td>(precision (probability-of-success * 100) 2)</td>\n",
       "      <td>(precision (probability-of-success * 100) 2)</td>\n",
       "      <td>(precision (probability-of-success * 100) 2)</td>\n",
       "      <td>(precision (probability-of-success * 100) 2)</td>\n",
       "      <td>(precision (probability-of-success * 100) 2)</td>\n",
       "      <td>(precision (probability-of-success * 100) 2)</td>\n",
       "    </tr>\n",
       "    <tr>\n",
       "      <th>4</th>\n",
       "      <td>[final]</td>\n",
       "      <td>99</td>\n",
       "      <td>96.32</td>\n",
       "      <td>99</td>\n",
       "      <td>99</td>\n",
       "      <td>99</td>\n",
       "      <td>99</td>\n",
       "      <td>79.64</td>\n",
       "      <td>99</td>\n",
       "      <td>99</td>\n",
       "      <td>...</td>\n",
       "      <td>99</td>\n",
       "      <td>99</td>\n",
       "      <td>99</td>\n",
       "      <td>99</td>\n",
       "      <td>99</td>\n",
       "      <td>99</td>\n",
       "      <td>99</td>\n",
       "      <td>99</td>\n",
       "      <td>99</td>\n",
       "      <td>99</td>\n",
       "    </tr>\n",
       "    <tr>\n",
       "      <th>...</th>\n",
       "      <td>...</td>\n",
       "      <td>...</td>\n",
       "      <td>...</td>\n",
       "      <td>...</td>\n",
       "      <td>...</td>\n",
       "      <td>...</td>\n",
       "      <td>...</td>\n",
       "      <td>...</td>\n",
       "      <td>...</td>\n",
       "      <td>...</td>\n",
       "      <td>...</td>\n",
       "      <td>...</td>\n",
       "      <td>...</td>\n",
       "      <td>...</td>\n",
       "      <td>...</td>\n",
       "      <td>...</td>\n",
       "      <td>...</td>\n",
       "      <td>...</td>\n",
       "      <td>...</td>\n",
       "      <td>...</td>\n",
       "      <td>...</td>\n",
       "    </tr>\n",
       "    <tr>\n",
       "      <th>7</th>\n",
       "      <td>[mean]</td>\n",
       "      <td>94.52535957</td>\n",
       "      <td>88.61737426</td>\n",
       "      <td>95.68991828</td>\n",
       "      <td>94.4029881</td>\n",
       "      <td>94.766157</td>\n",
       "      <td>95.43882803</td>\n",
       "      <td>65.29435956</td>\n",
       "      <td>95.04129496</td>\n",
       "      <td>94.56170213</td>\n",
       "      <td>...</td>\n",
       "      <td>95.26017214</td>\n",
       "      <td>95.02006989</td>\n",
       "      <td>95.35441566</td>\n",
       "      <td>95.26644751</td>\n",
       "      <td>95.16066251</td>\n",
       "      <td>94.85064439</td>\n",
       "      <td>94.77817362</td>\n",
       "      <td>95.00318072</td>\n",
       "      <td>95.45059612</td>\n",
       "      <td>94.74260558</td>\n",
       "    </tr>\n",
       "    <tr>\n",
       "      <th>8</th>\n",
       "      <td>[steps]</td>\n",
       "      <td>1473</td>\n",
       "      <td>10000</td>\n",
       "      <td>2691</td>\n",
       "      <td>839</td>\n",
       "      <td>1464</td>\n",
       "      <td>2482</td>\n",
       "      <td>10000</td>\n",
       "      <td>416</td>\n",
       "      <td>1268</td>\n",
       "      <td>...</td>\n",
       "      <td>1858</td>\n",
       "      <td>3147</td>\n",
       "      <td>1659</td>\n",
       "      <td>1885</td>\n",
       "      <td>2082</td>\n",
       "      <td>2932</td>\n",
       "      <td>2107</td>\n",
       "      <td>414</td>\n",
       "      <td>3505</td>\n",
       "      <td>1254</td>\n",
       "    </tr>\n",
       "    <tr>\n",
       "      <th>9</th>\n",
       "      <td>NaN</td>\n",
       "      <td>NaN</td>\n",
       "      <td>NaN</td>\n",
       "      <td>NaN</td>\n",
       "      <td>NaN</td>\n",
       "      <td>NaN</td>\n",
       "      <td>NaN</td>\n",
       "      <td>NaN</td>\n",
       "      <td>NaN</td>\n",
       "      <td>NaN</td>\n",
       "      <td>...</td>\n",
       "      <td>NaN</td>\n",
       "      <td>NaN</td>\n",
       "      <td>NaN</td>\n",
       "      <td>NaN</td>\n",
       "      <td>NaN</td>\n",
       "      <td>NaN</td>\n",
       "      <td>NaN</td>\n",
       "      <td>NaN</td>\n",
       "      <td>NaN</td>\n",
       "      <td>NaN</td>\n",
       "    </tr>\n",
       "    <tr>\n",
       "      <th>10</th>\n",
       "      <td>[all run data]</td>\n",
       "      <td>(precision (probability-of-success * 100) 2)</td>\n",
       "      <td>(precision (probability-of-success * 100) 2)</td>\n",
       "      <td>(precision (probability-of-success * 100) 2)</td>\n",
       "      <td>(precision (probability-of-success * 100) 2)</td>\n",
       "      <td>(precision (probability-of-success * 100) 2)</td>\n",
       "      <td>(precision (probability-of-success * 100) 2)</td>\n",
       "      <td>(precision (probability-of-success * 100) 2)</td>\n",
       "      <td>(precision (probability-of-success * 100) 2)</td>\n",
       "      <td>(precision (probability-of-success * 100) 2)</td>\n",
       "      <td>...</td>\n",
       "      <td>(precision (probability-of-success * 100) 2)</td>\n",
       "      <td>(precision (probability-of-success * 100) 2)</td>\n",
       "      <td>(precision (probability-of-success * 100) 2)</td>\n",
       "      <td>(precision (probability-of-success * 100) 2)</td>\n",
       "      <td>(precision (probability-of-success * 100) 2)</td>\n",
       "      <td>(precision (probability-of-success * 100) 2)</td>\n",
       "      <td>(precision (probability-of-success * 100) 2)</td>\n",
       "      <td>(precision (probability-of-success * 100) 2)</td>\n",
       "      <td>(precision (probability-of-success * 100) 2)</td>\n",
       "      <td>(precision (probability-of-success * 100) 2)</td>\n",
       "    </tr>\n",
       "    <tr>\n",
       "      <th>11</th>\n",
       "      <td>NaN</td>\n",
       "      <td>50</td>\n",
       "      <td>50</td>\n",
       "      <td>50</td>\n",
       "      <td>50</td>\n",
       "      <td>50</td>\n",
       "      <td>50</td>\n",
       "      <td>50</td>\n",
       "      <td>50</td>\n",
       "      <td>50</td>\n",
       "      <td>...</td>\n",
       "      <td>50</td>\n",
       "      <td>50</td>\n",
       "      <td>50</td>\n",
       "      <td>50</td>\n",
       "      <td>50</td>\n",
       "      <td>50</td>\n",
       "      <td>50</td>\n",
       "      <td>50</td>\n",
       "      <td>50</td>\n",
       "      <td>50</td>\n",
       "    </tr>\n",
       "  </tbody>\n",
       "</table></div>"
      ],
      "text/plain": [
       "            [run number]                                             1  \\\n",
       "0       number-of-states                                             2   \n",
       "1   print-probabilities?                                          TRUE   \n",
       "2      number-of-signals                                             2   \n",
       "3             [reporter]  (precision (probability-of-success * 100) 2)   \n",
       "4                [final]                                            99   \n",
       "5                  [min]                                            50   \n",
       "6                  [max]                                            99   \n",
       "7                 [mean]                                   94.52535957   \n",
       "8                [steps]                                          1473   \n",
       "9                    NaN                                           NaN   \n",
       "10        [all run data]  (precision (probability-of-success * 100) 2)   \n",
       "11                   NaN                                            50   \n",
       "\n",
       "                                               2  \\\n",
       "0                                              2   \n",
       "1                                           TRUE   \n",
       "2                                              2   \n",
       "3   (precision (probability-of-success * 100) 2)   \n",
       "4                                          96.32   \n",
       "5                                             50   \n",
       "6                                          96.32   \n",
       "7                                    88.61737426   \n",
       "8                                          10000   \n",
       "9                                            NaN   \n",
       "10  (precision (probability-of-success * 100) 2)   \n",
       "11                                            50   \n",
       "\n",
       "                                               3  \\\n",
       "0                                              2   \n",
       "1                                           TRUE   \n",
       "2                                              2   \n",
       "3   (precision (probability-of-success * 100) 2)   \n",
       "4                                             99   \n",
       "5                                             50   \n",
       "6                                             99   \n",
       "7                                    95.68991828   \n",
       "8                                           2691   \n",
       "9                                            NaN   \n",
       "10  (precision (probability-of-success * 100) 2)   \n",
       "11                                            50   \n",
       "\n",
       "                                               4  \\\n",
       "0                                              2   \n",
       "1                                           TRUE   \n",
       "2                                              2   \n",
       "3   (precision (probability-of-success * 100) 2)   \n",
       "4                                             99   \n",
       "5                                             50   \n",
       "6                                             99   \n",
       "7                                     94.4029881   \n",
       "8                                            839   \n",
       "9                                            NaN   \n",
       "10  (precision (probability-of-success * 100) 2)   \n",
       "11                                            50   \n",
       "\n",
       "                                               5  \\\n",
       "0                                              2   \n",
       "1                                           TRUE   \n",
       "2                                              2   \n",
       "3   (precision (probability-of-success * 100) 2)   \n",
       "4                                             99   \n",
       "5                                             50   \n",
       "6                                             99   \n",
       "7                                      94.766157   \n",
       "8                                           1464   \n",
       "9                                            NaN   \n",
       "10  (precision (probability-of-success * 100) 2)   \n",
       "11                                            50   \n",
       "\n",
       "                                               6  \\\n",
       "0                                              2   \n",
       "1                                           TRUE   \n",
       "2                                              2   \n",
       "3   (precision (probability-of-success * 100) 2)   \n",
       "4                                             99   \n",
       "5                                             50   \n",
       "6                                             99   \n",
       "7                                    95.43882803   \n",
       "8                                           2482   \n",
       "9                                            NaN   \n",
       "10  (precision (probability-of-success * 100) 2)   \n",
       "11                                            50   \n",
       "\n",
       "                                               7  \\\n",
       "0                                              2   \n",
       "1                                           TRUE   \n",
       "2                                              2   \n",
       "3   (precision (probability-of-success * 100) 2)   \n",
       "4                                          79.64   \n",
       "5                                             50   \n",
       "6                                          79.64   \n",
       "7                                    65.29435956   \n",
       "8                                          10000   \n",
       "9                                            NaN   \n",
       "10  (precision (probability-of-success * 100) 2)   \n",
       "11                                            50   \n",
       "\n",
       "                                               8  \\\n",
       "0                                              2   \n",
       "1                                           TRUE   \n",
       "2                                              2   \n",
       "3   (precision (probability-of-success * 100) 2)   \n",
       "4                                             99   \n",
       "5                                             50   \n",
       "6                                             99   \n",
       "7                                    95.04129496   \n",
       "8                                            416   \n",
       "9                                            NaN   \n",
       "10  (precision (probability-of-success * 100) 2)   \n",
       "11                                            50   \n",
       "\n",
       "                                               9  ...  \\\n",
       "0                                              2  ...   \n",
       "1                                           TRUE  ...   \n",
       "2                                              2  ...   \n",
       "3   (precision (probability-of-success * 100) 2)  ...   \n",
       "4                                             99  ...   \n",
       "5                                             50  ...   \n",
       "6                                             99  ...   \n",
       "7                                    94.56170213  ...   \n",
       "8                                           1268  ...   \n",
       "9                                            NaN  ...   \n",
       "10  (precision (probability-of-success * 100) 2)  ...   \n",
       "11                                            50  ...   \n",
       "\n",
       "                                              91  \\\n",
       "0                                              2   \n",
       "1                                           TRUE   \n",
       "2                                              2   \n",
       "3   (precision (probability-of-success * 100) 2)   \n",
       "4                                             99   \n",
       "5                                             50   \n",
       "6                                             99   \n",
       "7                                    95.26017214   \n",
       "8                                           1858   \n",
       "9                                            NaN   \n",
       "10  (precision (probability-of-success * 100) 2)   \n",
       "11                                            50   \n",
       "\n",
       "                                              92  \\\n",
       "0                                              2   \n",
       "1                                           TRUE   \n",
       "2                                              2   \n",
       "3   (precision (probability-of-success * 100) 2)   \n",
       "4                                             99   \n",
       "5                                             50   \n",
       "6                                             99   \n",
       "7                                    95.02006989   \n",
       "8                                           3147   \n",
       "9                                            NaN   \n",
       "10  (precision (probability-of-success * 100) 2)   \n",
       "11                                            50   \n",
       "\n",
       "                                              93  \\\n",
       "0                                              2   \n",
       "1                                           TRUE   \n",
       "2                                              2   \n",
       "3   (precision (probability-of-success * 100) 2)   \n",
       "4                                             99   \n",
       "5                                             50   \n",
       "6                                             99   \n",
       "7                                    95.35441566   \n",
       "8                                           1659   \n",
       "9                                            NaN   \n",
       "10  (precision (probability-of-success * 100) 2)   \n",
       "11                                            50   \n",
       "\n",
       "                                              94  \\\n",
       "0                                              2   \n",
       "1                                           TRUE   \n",
       "2                                              2   \n",
       "3   (precision (probability-of-success * 100) 2)   \n",
       "4                                             99   \n",
       "5                                             50   \n",
       "6                                             99   \n",
       "7                                    95.26644751   \n",
       "8                                           1885   \n",
       "9                                            NaN   \n",
       "10  (precision (probability-of-success * 100) 2)   \n",
       "11                                            50   \n",
       "\n",
       "                                              95  \\\n",
       "0                                              2   \n",
       "1                                           TRUE   \n",
       "2                                              2   \n",
       "3   (precision (probability-of-success * 100) 2)   \n",
       "4                                             99   \n",
       "5                                             50   \n",
       "6                                             99   \n",
       "7                                    95.16066251   \n",
       "8                                           2082   \n",
       "9                                            NaN   \n",
       "10  (precision (probability-of-success * 100) 2)   \n",
       "11                                            50   \n",
       "\n",
       "                                              96  \\\n",
       "0                                              2   \n",
       "1                                           TRUE   \n",
       "2                                              2   \n",
       "3   (precision (probability-of-success * 100) 2)   \n",
       "4                                             99   \n",
       "5                                             50   \n",
       "6                                             99   \n",
       "7                                    94.85064439   \n",
       "8                                           2932   \n",
       "9                                            NaN   \n",
       "10  (precision (probability-of-success * 100) 2)   \n",
       "11                                            50   \n",
       "\n",
       "                                              97  \\\n",
       "0                                              2   \n",
       "1                                           TRUE   \n",
       "2                                              2   \n",
       "3   (precision (probability-of-success * 100) 2)   \n",
       "4                                             99   \n",
       "5                                             50   \n",
       "6                                             99   \n",
       "7                                    94.77817362   \n",
       "8                                           2107   \n",
       "9                                            NaN   \n",
       "10  (precision (probability-of-success * 100) 2)   \n",
       "11                                            50   \n",
       "\n",
       "                                              98  \\\n",
       "0                                              2   \n",
       "1                                           TRUE   \n",
       "2                                              2   \n",
       "3   (precision (probability-of-success * 100) 2)   \n",
       "4                                             99   \n",
       "5                                             50   \n",
       "6                                             99   \n",
       "7                                    95.00318072   \n",
       "8                                            414   \n",
       "9                                            NaN   \n",
       "10  (precision (probability-of-success * 100) 2)   \n",
       "11                                            50   \n",
       "\n",
       "                                              99  \\\n",
       "0                                              2   \n",
       "1                                           TRUE   \n",
       "2                                              2   \n",
       "3   (precision (probability-of-success * 100) 2)   \n",
       "4                                             99   \n",
       "5                                             50   \n",
       "6                                             99   \n",
       "7                                    95.45059612   \n",
       "8                                           3505   \n",
       "9                                            NaN   \n",
       "10  (precision (probability-of-success * 100) 2)   \n",
       "11                                            50   \n",
       "\n",
       "                                             100  \n",
       "0                                              2  \n",
       "1                                           TRUE  \n",
       "2                                              2  \n",
       "3   (precision (probability-of-success * 100) 2)  \n",
       "4                                             99  \n",
       "5                                             50  \n",
       "6                                             99  \n",
       "7                                    94.74260558  \n",
       "8                                           1254  \n",
       "9                                            NaN  \n",
       "10  (precision (probability-of-success * 100) 2)  \n",
       "11                                            50  \n",
       "\n",
       "[12 rows x 101 columns]"
      ]
     },
     "execution_count": 41,
     "metadata": {},
     "output_type": "execute_result"
    }
   ],
   "source": [
    "traditional_model1 = pd.read_csv(\"https://raw.githubusercontent.com/akhand227/lewisSignalingResults-analysis/main/data/traditional_signaling.csv\",  index_col = False)\n",
    "traditional_model1.head(12)"
   ]
  },
  {
   "cell_type": "code",
   "execution_count": 42,
   "id": "50db8452",
   "metadata": {
    "scrolled": true
   },
   "outputs": [
    {
     "data": {
      "text/plain": [
       "99.0"
      ]
     },
     "execution_count": 42,
     "metadata": {},
     "output_type": "execute_result"
    }
   ],
   "source": [
    "#success_mean is the variable that provide mean probability of success from the 100 simulations\n",
    "success_mean(traditional_model1)"
   ]
  },
  {
   "cell_type": "markdown",
   "id": "563f65d4",
   "metadata": {},
   "source": [
    "<b>Conclusion: This is exactly what we expected. As Lewis pointed, under traditional condition convention (99% mean success for 100 simulations) is eventually established.</b>"
   ]
  },
  {
   "cell_type": "markdown",
   "id": "15e120a1",
   "metadata": {},
   "source": [
    "### Asymmetric Information-Bottleneck Condition "
   ]
  },
  {
   "cell_type": "code",
   "execution_count": 43,
   "id": "8af2b3b4",
   "metadata": {
    "scrolled": false
   },
   "outputs": [
    {
     "name": "stderr",
     "output_type": "stream",
     "text": [
      "/var/folders/dj/6hlv9mw16vldgkjt5ncypff40000gn/T/ipykernel_4195/3461953692.py:1: DtypeWarning: Columns (0,1,2,3,4,5,6,7,8,9,10,11,12,13,14,15,16,17,18,19,20,21,22,23,24,25,26,27,28,29,30,31,32,33,34,35,36,37,38,39,40,41,42,43,44,45,46,47,48,49,50,51,52,53,54,55,56,57,58,59,60,61,62,63,64,65,66,67,68,69,70,71,72,73,74,75,76,77,78,79,80,81,82,83,84,85,86,87,88,89,90,91,92,93,94,95,96,97,98,99,100) have mixed types. Specify dtype option on import or set low_memory=False.\n",
      "  synonyms_tradition = pd.read_csv(\"https://raw.githubusercontent.com/akhand227/lewisSignalingResults-analysis/main/data/manystates_fewerSignals.csv\",  index_col = False)\n"
     ]
    },
    {
     "data": {
      "text/html": [
       "<div><div id=d6fcc9c1-0d68-4a16-975d-36f4e91aea1f style=\"display:none; background-color:#9D6CFF; color:white; width:200px; height:30px; padding-left:5px; border-radius:4px; flex-direction:row; justify-content:space-around; align-items:center;\" onmouseover=\"this.style.backgroundColor='#BA9BF8'\" onmouseout=\"this.style.backgroundColor='#9D6CFF'\" onclick=\"window.commands?.execute('create-mitosheet-from-dataframe-output');\">See Full Dataframe in Mito</div> <script> if (window.commands?.hasCommand('create-mitosheet-from-dataframe-output')) document.getElementById('d6fcc9c1-0d68-4a16-975d-36f4e91aea1f').style.display = 'flex' </script> <table border=\"1\" class=\"dataframe\">\n",
       "  <thead>\n",
       "    <tr style=\"text-align: right;\">\n",
       "      <th></th>\n",
       "      <th>exp. number</th>\n",
       "      <th>1</th>\n",
       "      <th>2</th>\n",
       "      <th>3</th>\n",
       "      <th>4</th>\n",
       "      <th>5</th>\n",
       "      <th>6</th>\n",
       "      <th>7</th>\n",
       "      <th>8</th>\n",
       "      <th>9</th>\n",
       "      <th>...</th>\n",
       "      <th>91</th>\n",
       "      <th>92</th>\n",
       "      <th>93</th>\n",
       "      <th>94</th>\n",
       "      <th>95</th>\n",
       "      <th>96</th>\n",
       "      <th>97</th>\n",
       "      <th>98</th>\n",
       "      <th>99</th>\n",
       "      <th>100</th>\n",
       "    </tr>\n",
       "  </thead>\n",
       "  <tbody>\n",
       "    <tr>\n",
       "      <th>0</th>\n",
       "      <td>number-of-states</td>\n",
       "      <td>3</td>\n",
       "      <td>3</td>\n",
       "      <td>3</td>\n",
       "      <td>3</td>\n",
       "      <td>3</td>\n",
       "      <td>3</td>\n",
       "      <td>3</td>\n",
       "      <td>3</td>\n",
       "      <td>3</td>\n",
       "      <td>...</td>\n",
       "      <td>3</td>\n",
       "      <td>3</td>\n",
       "      <td>3</td>\n",
       "      <td>3</td>\n",
       "      <td>3</td>\n",
       "      <td>3</td>\n",
       "      <td>3</td>\n",
       "      <td>3</td>\n",
       "      <td>3</td>\n",
       "      <td>3</td>\n",
       "    </tr>\n",
       "    <tr>\n",
       "      <th>1</th>\n",
       "      <td>print-probabilities?</td>\n",
       "      <td>TRUE</td>\n",
       "      <td>TRUE</td>\n",
       "      <td>TRUE</td>\n",
       "      <td>TRUE</td>\n",
       "      <td>TRUE</td>\n",
       "      <td>TRUE</td>\n",
       "      <td>TRUE</td>\n",
       "      <td>TRUE</td>\n",
       "      <td>TRUE</td>\n",
       "      <td>...</td>\n",
       "      <td>TRUE</td>\n",
       "      <td>TRUE</td>\n",
       "      <td>TRUE</td>\n",
       "      <td>TRUE</td>\n",
       "      <td>TRUE</td>\n",
       "      <td>TRUE</td>\n",
       "      <td>TRUE</td>\n",
       "      <td>TRUE</td>\n",
       "      <td>TRUE</td>\n",
       "      <td>TRUE</td>\n",
       "    </tr>\n",
       "    <tr>\n",
       "      <th>2</th>\n",
       "      <td>number-of-signals</td>\n",
       "      <td>2</td>\n",
       "      <td>2</td>\n",
       "      <td>2</td>\n",
       "      <td>2</td>\n",
       "      <td>2</td>\n",
       "      <td>2</td>\n",
       "      <td>2</td>\n",
       "      <td>2</td>\n",
       "      <td>2</td>\n",
       "      <td>...</td>\n",
       "      <td>2</td>\n",
       "      <td>2</td>\n",
       "      <td>2</td>\n",
       "      <td>2</td>\n",
       "      <td>2</td>\n",
       "      <td>2</td>\n",
       "      <td>2</td>\n",
       "      <td>2</td>\n",
       "      <td>2</td>\n",
       "      <td>2</td>\n",
       "    </tr>\n",
       "    <tr>\n",
       "      <th>3</th>\n",
       "      <td>reporter</td>\n",
       "      <td>Final probability-of-success</td>\n",
       "      <td>Final probability-of-success</td>\n",
       "      <td>Final probability-of-success</td>\n",
       "      <td>Final probability-of-success</td>\n",
       "      <td>Final probability-of-success</td>\n",
       "      <td>Final probability-of-success</td>\n",
       "      <td>Final probability-of-success</td>\n",
       "      <td>Final probability-of-success</td>\n",
       "      <td>Final probability-of-success</td>\n",
       "      <td>...</td>\n",
       "      <td>Final probability-of-success</td>\n",
       "      <td>Final probability-of-success</td>\n",
       "      <td>Final probability-of-success</td>\n",
       "      <td>Final probability-of-success</td>\n",
       "      <td>Final probability-of-success</td>\n",
       "      <td>Final probability-of-success</td>\n",
       "      <td>Final probability-of-success</td>\n",
       "      <td>Final probability-of-success</td>\n",
       "      <td>Final probability-of-success</td>\n",
       "      <td>Final probability-of-success</td>\n",
       "    </tr>\n",
       "    <tr>\n",
       "      <th>4</th>\n",
       "      <td>final</td>\n",
       "      <td>66.47</td>\n",
       "      <td>66.57</td>\n",
       "      <td>66.40</td>\n",
       "      <td>66.52</td>\n",
       "      <td>66.33</td>\n",
       "      <td>66.45</td>\n",
       "      <td>66.57</td>\n",
       "      <td>66.61</td>\n",
       "      <td>66.48</td>\n",
       "      <td>...</td>\n",
       "      <td>59.09</td>\n",
       "      <td>66.59</td>\n",
       "      <td>66.33</td>\n",
       "      <td>66.51</td>\n",
       "      <td>66.61</td>\n",
       "      <td>66.61</td>\n",
       "      <td>66.51</td>\n",
       "      <td>66.59</td>\n",
       "      <td>65.51</td>\n",
       "      <td>65.64</td>\n",
       "    </tr>\n",
       "    <tr>\n",
       "      <th>...</th>\n",
       "      <td>...</td>\n",
       "      <td>...</td>\n",
       "      <td>...</td>\n",
       "      <td>...</td>\n",
       "      <td>...</td>\n",
       "      <td>...</td>\n",
       "      <td>...</td>\n",
       "      <td>...</td>\n",
       "      <td>...</td>\n",
       "      <td>...</td>\n",
       "      <td>...</td>\n",
       "      <td>...</td>\n",
       "      <td>...</td>\n",
       "      <td>...</td>\n",
       "      <td>...</td>\n",
       "      <td>...</td>\n",
       "      <td>...</td>\n",
       "      <td>...</td>\n",
       "      <td>...</td>\n",
       "      <td>...</td>\n",
       "      <td>...</td>\n",
       "    </tr>\n",
       "    <tr>\n",
       "      <th>10007</th>\n",
       "      <td>NaN</td>\n",
       "      <td>66.47</td>\n",
       "      <td>66.57</td>\n",
       "      <td>66.4</td>\n",
       "      <td>66.52</td>\n",
       "      <td>66.33</td>\n",
       "      <td>66.45</td>\n",
       "      <td>66.57</td>\n",
       "      <td>66.61</td>\n",
       "      <td>66.48</td>\n",
       "      <td>...</td>\n",
       "      <td>59.09</td>\n",
       "      <td>66.59</td>\n",
       "      <td>66.33</td>\n",
       "      <td>66.51</td>\n",
       "      <td>66.61</td>\n",
       "      <td>66.61</td>\n",
       "      <td>66.51</td>\n",
       "      <td>66.59</td>\n",
       "      <td>65.51</td>\n",
       "      <td>65.64</td>\n",
       "    </tr>\n",
       "    <tr>\n",
       "      <th>10008</th>\n",
       "      <td>NaN</td>\n",
       "      <td>66.47</td>\n",
       "      <td>66.57</td>\n",
       "      <td>66.4</td>\n",
       "      <td>66.52</td>\n",
       "      <td>66.33</td>\n",
       "      <td>66.45</td>\n",
       "      <td>66.57</td>\n",
       "      <td>66.61</td>\n",
       "      <td>66.48</td>\n",
       "      <td>...</td>\n",
       "      <td>59.09</td>\n",
       "      <td>66.59</td>\n",
       "      <td>66.33</td>\n",
       "      <td>66.51</td>\n",
       "      <td>66.61</td>\n",
       "      <td>66.61</td>\n",
       "      <td>66.51</td>\n",
       "      <td>66.59</td>\n",
       "      <td>65.51</td>\n",
       "      <td>65.64</td>\n",
       "    </tr>\n",
       "    <tr>\n",
       "      <th>10009</th>\n",
       "      <td>NaN</td>\n",
       "      <td>66.47</td>\n",
       "      <td>66.57</td>\n",
       "      <td>66.4</td>\n",
       "      <td>66.52</td>\n",
       "      <td>66.33</td>\n",
       "      <td>66.45</td>\n",
       "      <td>66.57</td>\n",
       "      <td>66.61</td>\n",
       "      <td>66.48</td>\n",
       "      <td>...</td>\n",
       "      <td>59.09</td>\n",
       "      <td>66.59</td>\n",
       "      <td>66.33</td>\n",
       "      <td>66.51</td>\n",
       "      <td>66.61</td>\n",
       "      <td>66.61</td>\n",
       "      <td>66.51</td>\n",
       "      <td>66.59</td>\n",
       "      <td>65.51</td>\n",
       "      <td>65.64</td>\n",
       "    </tr>\n",
       "    <tr>\n",
       "      <th>10010</th>\n",
       "      <td>NaN</td>\n",
       "      <td>66.47</td>\n",
       "      <td>66.57</td>\n",
       "      <td>66.4</td>\n",
       "      <td>66.52</td>\n",
       "      <td>66.33</td>\n",
       "      <td>66.45</td>\n",
       "      <td>66.57</td>\n",
       "      <td>66.61</td>\n",
       "      <td>66.48</td>\n",
       "      <td>...</td>\n",
       "      <td>59.09</td>\n",
       "      <td>66.59</td>\n",
       "      <td>66.33</td>\n",
       "      <td>66.51</td>\n",
       "      <td>66.61</td>\n",
       "      <td>66.61</td>\n",
       "      <td>66.51</td>\n",
       "      <td>66.59</td>\n",
       "      <td>65.51</td>\n",
       "      <td>65.64</td>\n",
       "    </tr>\n",
       "    <tr>\n",
       "      <th>10011</th>\n",
       "      <td>NaN</td>\n",
       "      <td>66.47</td>\n",
       "      <td>66.57</td>\n",
       "      <td>66.4</td>\n",
       "      <td>66.52</td>\n",
       "      <td>66.33</td>\n",
       "      <td>66.45</td>\n",
       "      <td>66.57</td>\n",
       "      <td>66.61</td>\n",
       "      <td>66.48</td>\n",
       "      <td>...</td>\n",
       "      <td>59.09</td>\n",
       "      <td>66.59</td>\n",
       "      <td>66.33</td>\n",
       "      <td>66.51</td>\n",
       "      <td>66.61</td>\n",
       "      <td>66.61</td>\n",
       "      <td>66.51</td>\n",
       "      <td>66.59</td>\n",
       "      <td>65.51</td>\n",
       "      <td>65.64</td>\n",
       "    </tr>\n",
       "  </tbody>\n",
       "</table></div>"
      ],
      "text/plain": [
       "                exp. number                             1  \\\n",
       "0          number-of-states                             3   \n",
       "1      print-probabilities?                          TRUE   \n",
       "2         number-of-signals                             2   \n",
       "3                  reporter  Final probability-of-success   \n",
       "4                     final                         66.47   \n",
       "...                     ...                           ...   \n",
       "10007                   NaN                         66.47   \n",
       "10008                   NaN                         66.47   \n",
       "10009                   NaN                         66.47   \n",
       "10010                   NaN                         66.47   \n",
       "10011                   NaN                         66.47   \n",
       "\n",
       "                                  2                             3  \\\n",
       "0                                 3                             3   \n",
       "1                              TRUE                          TRUE   \n",
       "2                                 2                             2   \n",
       "3      Final probability-of-success  Final probability-of-success   \n",
       "4                             66.57                         66.40   \n",
       "...                             ...                           ...   \n",
       "10007                         66.57                          66.4   \n",
       "10008                         66.57                          66.4   \n",
       "10009                         66.57                          66.4   \n",
       "10010                         66.57                          66.4   \n",
       "10011                         66.57                          66.4   \n",
       "\n",
       "                                  4                             5  \\\n",
       "0                                 3                             3   \n",
       "1                              TRUE                          TRUE   \n",
       "2                                 2                             2   \n",
       "3      Final probability-of-success  Final probability-of-success   \n",
       "4                             66.52                         66.33   \n",
       "...                             ...                           ...   \n",
       "10007                         66.52                         66.33   \n",
       "10008                         66.52                         66.33   \n",
       "10009                         66.52                         66.33   \n",
       "10010                         66.52                         66.33   \n",
       "10011                         66.52                         66.33   \n",
       "\n",
       "                                  6                             7  \\\n",
       "0                                 3                             3   \n",
       "1                              TRUE                          TRUE   \n",
       "2                                 2                             2   \n",
       "3      Final probability-of-success  Final probability-of-success   \n",
       "4                             66.45                         66.57   \n",
       "...                             ...                           ...   \n",
       "10007                         66.45                         66.57   \n",
       "10008                         66.45                         66.57   \n",
       "10009                         66.45                         66.57   \n",
       "10010                         66.45                         66.57   \n",
       "10011                         66.45                         66.57   \n",
       "\n",
       "                                  8                             9  ...  \\\n",
       "0                                 3                             3  ...   \n",
       "1                              TRUE                          TRUE  ...   \n",
       "2                                 2                             2  ...   \n",
       "3      Final probability-of-success  Final probability-of-success  ...   \n",
       "4                             66.61                         66.48  ...   \n",
       "...                             ...                           ...  ...   \n",
       "10007                         66.61                         66.48  ...   \n",
       "10008                         66.61                         66.48  ...   \n",
       "10009                         66.61                         66.48  ...   \n",
       "10010                         66.61                         66.48  ...   \n",
       "10011                         66.61                         66.48  ...   \n",
       "\n",
       "                                 91                            92  \\\n",
       "0                                 3                             3   \n",
       "1                              TRUE                          TRUE   \n",
       "2                                 2                             2   \n",
       "3      Final probability-of-success  Final probability-of-success   \n",
       "4                             59.09                         66.59   \n",
       "...                             ...                           ...   \n",
       "10007                         59.09                         66.59   \n",
       "10008                         59.09                         66.59   \n",
       "10009                         59.09                         66.59   \n",
       "10010                         59.09                         66.59   \n",
       "10011                         59.09                         66.59   \n",
       "\n",
       "                                 93                            94  \\\n",
       "0                                 3                             3   \n",
       "1                              TRUE                          TRUE   \n",
       "2                                 2                             2   \n",
       "3      Final probability-of-success  Final probability-of-success   \n",
       "4                             66.33                         66.51   \n",
       "...                             ...                           ...   \n",
       "10007                         66.33                         66.51   \n",
       "10008                         66.33                         66.51   \n",
       "10009                         66.33                         66.51   \n",
       "10010                         66.33                         66.51   \n",
       "10011                         66.33                         66.51   \n",
       "\n",
       "                                 95                            96  \\\n",
       "0                                 3                             3   \n",
       "1                              TRUE                          TRUE   \n",
       "2                                 2                             2   \n",
       "3      Final probability-of-success  Final probability-of-success   \n",
       "4                             66.61                         66.61   \n",
       "...                             ...                           ...   \n",
       "10007                         66.61                         66.61   \n",
       "10008                         66.61                         66.61   \n",
       "10009                         66.61                         66.61   \n",
       "10010                         66.61                         66.61   \n",
       "10011                         66.61                         66.61   \n",
       "\n",
       "                                 97                            98  \\\n",
       "0                                 3                             3   \n",
       "1                              TRUE                          TRUE   \n",
       "2                                 2                             2   \n",
       "3      Final probability-of-success  Final probability-of-success   \n",
       "4                             66.51                         66.59   \n",
       "...                             ...                           ...   \n",
       "10007                         66.51                         66.59   \n",
       "10008                         66.51                         66.59   \n",
       "10009                         66.51                         66.59   \n",
       "10010                         66.51                         66.59   \n",
       "10011                         66.51                         66.59   \n",
       "\n",
       "                                 99                           100  \n",
       "0                                 3                             3  \n",
       "1                              TRUE                          TRUE  \n",
       "2                                 2                             2  \n",
       "3      Final probability-of-success  Final probability-of-success  \n",
       "4                             65.51                         65.64  \n",
       "...                             ...                           ...  \n",
       "10007                         65.51                         65.64  \n",
       "10008                         65.51                         65.64  \n",
       "10009                         65.51                         65.64  \n",
       "10010                         65.51                         65.64  \n",
       "10011                         65.51                         65.64  \n",
       "\n",
       "[10012 rows x 101 columns]"
      ]
     },
     "execution_count": 43,
     "metadata": {},
     "output_type": "execute_result"
    }
   ],
   "source": [
    "synonyms_tradition = pd.read_csv(\"https://raw.githubusercontent.com/akhand227/lewisSignalingResults-analysis/main/data/manystates_fewerSignals.csv\",  index_col = False)\n",
    "synonyms_tradition"
   ]
  },
  {
   "cell_type": "code",
   "execution_count": 44,
   "id": "462265a1",
   "metadata": {
    "scrolled": true
   },
   "outputs": [
    {
     "data": {
      "text/plain": [
       "66.47"
      ]
     },
     "execution_count": 44,
     "metadata": {},
     "output_type": "execute_result"
    }
   ],
   "source": [
    "success_mean(synonyms_tradition)"
   ]
  },
  {
   "cell_type": "markdown",
   "id": "41667b14",
   "metadata": {},
   "source": [
    "<b>Conclusion: This is similar to our expectations as well. As Skyrms pointed, under information-bottleneck condition (3 states - 2 signals) 66% mean success for 100 simulations is the best we can achieve.</b>"
   ]
  },
  {
   "cell_type": "markdown",
   "id": "42f5365f",
   "metadata": {},
   "source": [
    "### Asymmetric Condition - Synonym Case"
   ]
  },
  {
   "cell_type": "code",
   "execution_count": 45,
   "id": "7829538e",
   "metadata": {
    "scrolled": true
   },
   "outputs": [
    {
     "name": "stderr",
     "output_type": "stream",
     "text": [
      "/var/folders/dj/6hlv9mw16vldgkjt5ncypff40000gn/T/ipykernel_4195/3085569477.py:1: DtypeWarning: Columns (0,1,2,3,4,5,6,7,8,9,10,11,12,13,14,15,16,17,18,19,20,21,22,23,24,25,26,27,28,29,30,31,32,33,34,35,36,37,38,39,40,41,42,43,44,45,46,47,48,49,50,51,52,53,54,55,56,57,58,59,60,61,62,63,64,65,66,67,68,69,70,71,72,73,74,75,76,77,78,79,80,81,82,83,84,85,86,87,88,89,90,91,92,93,94,95,96,97,98,99,100) have mixed types. Specify dtype option on import or set low_memory=False.\n",
      "  synonyms = pd.read_csv(\"https://raw.githubusercontent.com/akhand227/lewisSignalingResults-analysis/main/data/synonyms-case.csv\",  index_col = False)\n"
     ]
    },
    {
     "data": {
      "text/html": [
       "<div><div id=e764c5e9-aac3-4bbb-8260-b882f044bf72 style=\"display:none; background-color:#9D6CFF; color:white; width:200px; height:30px; padding-left:5px; border-radius:4px; flex-direction:row; justify-content:space-around; align-items:center;\" onmouseover=\"this.style.backgroundColor='#BA9BF8'\" onmouseout=\"this.style.backgroundColor='#9D6CFF'\" onclick=\"window.commands?.execute('create-mitosheet-from-dataframe-output');\">See Full Dataframe in Mito</div> <script> if (window.commands?.hasCommand('create-mitosheet-from-dataframe-output')) document.getElementById('e764c5e9-aac3-4bbb-8260-b882f044bf72').style.display = 'flex' </script> <table border=\"1\" class=\"dataframe\">\n",
       "  <thead>\n",
       "    <tr style=\"text-align: right;\">\n",
       "      <th></th>\n",
       "      <th>[run number]</th>\n",
       "      <th>1</th>\n",
       "      <th>2</th>\n",
       "      <th>3</th>\n",
       "      <th>4</th>\n",
       "      <th>5</th>\n",
       "      <th>6</th>\n",
       "      <th>7</th>\n",
       "      <th>8</th>\n",
       "      <th>9</th>\n",
       "      <th>...</th>\n",
       "      <th>91</th>\n",
       "      <th>92</th>\n",
       "      <th>93</th>\n",
       "      <th>94</th>\n",
       "      <th>95</th>\n",
       "      <th>96</th>\n",
       "      <th>97</th>\n",
       "      <th>98</th>\n",
       "      <th>99</th>\n",
       "      <th>100</th>\n",
       "    </tr>\n",
       "  </thead>\n",
       "  <tbody>\n",
       "    <tr>\n",
       "      <th>0</th>\n",
       "      <td>number-of-states</td>\n",
       "      <td>2</td>\n",
       "      <td>2</td>\n",
       "      <td>2</td>\n",
       "      <td>2</td>\n",
       "      <td>2</td>\n",
       "      <td>2</td>\n",
       "      <td>2</td>\n",
       "      <td>2</td>\n",
       "      <td>2</td>\n",
       "      <td>...</td>\n",
       "      <td>2</td>\n",
       "      <td>2</td>\n",
       "      <td>2</td>\n",
       "      <td>2</td>\n",
       "      <td>2</td>\n",
       "      <td>2</td>\n",
       "      <td>2</td>\n",
       "      <td>2</td>\n",
       "      <td>2</td>\n",
       "      <td>2</td>\n",
       "    </tr>\n",
       "    <tr>\n",
       "      <th>1</th>\n",
       "      <td>print-probabilities?</td>\n",
       "      <td>TRUE</td>\n",
       "      <td>TRUE</td>\n",
       "      <td>TRUE</td>\n",
       "      <td>TRUE</td>\n",
       "      <td>TRUE</td>\n",
       "      <td>TRUE</td>\n",
       "      <td>TRUE</td>\n",
       "      <td>TRUE</td>\n",
       "      <td>TRUE</td>\n",
       "      <td>...</td>\n",
       "      <td>TRUE</td>\n",
       "      <td>TRUE</td>\n",
       "      <td>TRUE</td>\n",
       "      <td>TRUE</td>\n",
       "      <td>TRUE</td>\n",
       "      <td>TRUE</td>\n",
       "      <td>TRUE</td>\n",
       "      <td>TRUE</td>\n",
       "      <td>TRUE</td>\n",
       "      <td>TRUE</td>\n",
       "    </tr>\n",
       "    <tr>\n",
       "      <th>2</th>\n",
       "      <td>number-of-signals</td>\n",
       "      <td>3</td>\n",
       "      <td>3</td>\n",
       "      <td>3</td>\n",
       "      <td>3</td>\n",
       "      <td>3</td>\n",
       "      <td>3</td>\n",
       "      <td>3</td>\n",
       "      <td>3</td>\n",
       "      <td>3</td>\n",
       "      <td>...</td>\n",
       "      <td>3</td>\n",
       "      <td>3</td>\n",
       "      <td>3</td>\n",
       "      <td>3</td>\n",
       "      <td>3</td>\n",
       "      <td>3</td>\n",
       "      <td>3</td>\n",
       "      <td>3</td>\n",
       "      <td>3</td>\n",
       "      <td>3</td>\n",
       "    </tr>\n",
       "    <tr>\n",
       "      <th>3</th>\n",
       "      <td>[reporter]</td>\n",
       "      <td>(precision (probability-of-success * 100) 2)</td>\n",
       "      <td>(precision (probability-of-success * 100) 2)</td>\n",
       "      <td>(precision (probability-of-success * 100) 2)</td>\n",
       "      <td>(precision (probability-of-success * 100) 2)</td>\n",
       "      <td>(precision (probability-of-success * 100) 2)</td>\n",
       "      <td>(precision (probability-of-success * 100) 2)</td>\n",
       "      <td>(precision (probability-of-success * 100) 2)</td>\n",
       "      <td>(precision (probability-of-success * 100) 2)</td>\n",
       "      <td>(precision (probability-of-success * 100) 2)</td>\n",
       "      <td>...</td>\n",
       "      <td>(precision (probability-of-success * 100) 2)</td>\n",
       "      <td>(precision (probability-of-success * 100) 2)</td>\n",
       "      <td>(precision (probability-of-success * 100) 2)</td>\n",
       "      <td>(precision (probability-of-success * 100) 2)</td>\n",
       "      <td>(precision (probability-of-success * 100) 2)</td>\n",
       "      <td>(precision (probability-of-success * 100) 2)</td>\n",
       "      <td>(precision (probability-of-success * 100) 2)</td>\n",
       "      <td>(precision (probability-of-success * 100) 2)</td>\n",
       "      <td>(precision (probability-of-success * 100) 2)</td>\n",
       "      <td>(precision (probability-of-success * 100) 2)</td>\n",
       "    </tr>\n",
       "    <tr>\n",
       "      <th>4</th>\n",
       "      <td>[final]</td>\n",
       "      <td>99</td>\n",
       "      <td>99</td>\n",
       "      <td>99</td>\n",
       "      <td>99</td>\n",
       "      <td>99</td>\n",
       "      <td>99</td>\n",
       "      <td>99</td>\n",
       "      <td>99</td>\n",
       "      <td>99</td>\n",
       "      <td>...</td>\n",
       "      <td>99</td>\n",
       "      <td>99</td>\n",
       "      <td>99</td>\n",
       "      <td>99</td>\n",
       "      <td>99</td>\n",
       "      <td>99</td>\n",
       "      <td>99</td>\n",
       "      <td>98.27</td>\n",
       "      <td>99</td>\n",
       "      <td>99</td>\n",
       "    </tr>\n",
       "  </tbody>\n",
       "</table></div>"
      ],
      "text/plain": [
       "           [run number]                                             1  \\\n",
       "0      number-of-states                                             2   \n",
       "1  print-probabilities?                                          TRUE   \n",
       "2     number-of-signals                                             3   \n",
       "3            [reporter]  (precision (probability-of-success * 100) 2)   \n",
       "4               [final]                                            99   \n",
       "\n",
       "                                              2  \\\n",
       "0                                             2   \n",
       "1                                          TRUE   \n",
       "2                                             3   \n",
       "3  (precision (probability-of-success * 100) 2)   \n",
       "4                                            99   \n",
       "\n",
       "                                              3  \\\n",
       "0                                             2   \n",
       "1                                          TRUE   \n",
       "2                                             3   \n",
       "3  (precision (probability-of-success * 100) 2)   \n",
       "4                                            99   \n",
       "\n",
       "                                              4  \\\n",
       "0                                             2   \n",
       "1                                          TRUE   \n",
       "2                                             3   \n",
       "3  (precision (probability-of-success * 100) 2)   \n",
       "4                                            99   \n",
       "\n",
       "                                              5  \\\n",
       "0                                             2   \n",
       "1                                          TRUE   \n",
       "2                                             3   \n",
       "3  (precision (probability-of-success * 100) 2)   \n",
       "4                                            99   \n",
       "\n",
       "                                              6  \\\n",
       "0                                             2   \n",
       "1                                          TRUE   \n",
       "2                                             3   \n",
       "3  (precision (probability-of-success * 100) 2)   \n",
       "4                                            99   \n",
       "\n",
       "                                              7  \\\n",
       "0                                             2   \n",
       "1                                          TRUE   \n",
       "2                                             3   \n",
       "3  (precision (probability-of-success * 100) 2)   \n",
       "4                                            99   \n",
       "\n",
       "                                              8  \\\n",
       "0                                             2   \n",
       "1                                          TRUE   \n",
       "2                                             3   \n",
       "3  (precision (probability-of-success * 100) 2)   \n",
       "4                                            99   \n",
       "\n",
       "                                              9  ...  \\\n",
       "0                                             2  ...   \n",
       "1                                          TRUE  ...   \n",
       "2                                             3  ...   \n",
       "3  (precision (probability-of-success * 100) 2)  ...   \n",
       "4                                            99  ...   \n",
       "\n",
       "                                             91  \\\n",
       "0                                             2   \n",
       "1                                          TRUE   \n",
       "2                                             3   \n",
       "3  (precision (probability-of-success * 100) 2)   \n",
       "4                                            99   \n",
       "\n",
       "                                             92  \\\n",
       "0                                             2   \n",
       "1                                          TRUE   \n",
       "2                                             3   \n",
       "3  (precision (probability-of-success * 100) 2)   \n",
       "4                                            99   \n",
       "\n",
       "                                             93  \\\n",
       "0                                             2   \n",
       "1                                          TRUE   \n",
       "2                                             3   \n",
       "3  (precision (probability-of-success * 100) 2)   \n",
       "4                                            99   \n",
       "\n",
       "                                             94  \\\n",
       "0                                             2   \n",
       "1                                          TRUE   \n",
       "2                                             3   \n",
       "3  (precision (probability-of-success * 100) 2)   \n",
       "4                                            99   \n",
       "\n",
       "                                             95  \\\n",
       "0                                             2   \n",
       "1                                          TRUE   \n",
       "2                                             3   \n",
       "3  (precision (probability-of-success * 100) 2)   \n",
       "4                                            99   \n",
       "\n",
       "                                             96  \\\n",
       "0                                             2   \n",
       "1                                          TRUE   \n",
       "2                                             3   \n",
       "3  (precision (probability-of-success * 100) 2)   \n",
       "4                                            99   \n",
       "\n",
       "                                             97  \\\n",
       "0                                             2   \n",
       "1                                          TRUE   \n",
       "2                                             3   \n",
       "3  (precision (probability-of-success * 100) 2)   \n",
       "4                                            99   \n",
       "\n",
       "                                             98  \\\n",
       "0                                             2   \n",
       "1                                          TRUE   \n",
       "2                                             3   \n",
       "3  (precision (probability-of-success * 100) 2)   \n",
       "4                                         98.27   \n",
       "\n",
       "                                             99  \\\n",
       "0                                             2   \n",
       "1                                          TRUE   \n",
       "2                                             3   \n",
       "3  (precision (probability-of-success * 100) 2)   \n",
       "4                                            99   \n",
       "\n",
       "                                            100  \n",
       "0                                             2  \n",
       "1                                          TRUE  \n",
       "2                                             3  \n",
       "3  (precision (probability-of-success * 100) 2)  \n",
       "4                                            99  \n",
       "\n",
       "[5 rows x 101 columns]"
      ]
     },
     "execution_count": 45,
     "metadata": {},
     "output_type": "execute_result"
    }
   ],
   "source": [
    "synonyms = pd.read_csv(\"https://raw.githubusercontent.com/akhand227/lewisSignalingResults-analysis/main/data/synonyms-case.csv\",  index_col = False)\n",
    "synonyms.head()"
   ]
  },
  {
   "cell_type": "code",
   "execution_count": 46,
   "id": "996b2626",
   "metadata": {
    "scrolled": false
   },
   "outputs": [
    {
     "data": {
      "text/plain": [
       "99.0"
      ]
     },
     "execution_count": 46,
     "metadata": {},
     "output_type": "execute_result"
    }
   ],
   "source": [
    "success_mean(synonyms)"
   ]
  },
  {
   "cell_type": "markdown",
   "id": "871de16d",
   "metadata": {},
   "source": [
    "<b>Conclusion: 99% average success among 100 simulations makes sense as extra signals (synonyms) eventually fade away. Also pointed out by Skyrms that 2state-3signals condition convention (99% mean success for 100 simulations) is eventually established.</b>"
   ]
  },
  {
   "cell_type": "markdown",
   "id": "49058bdf",
   "metadata": {},
   "source": [
    "## Evaluation [Model 2]"
   ]
  },
  {
   "cell_type": "markdown",
   "id": "ff8d8f7b",
   "metadata": {},
   "source": [
    "For Model 2, we will examine how the performance of the model varies as we vary certain naturalistic parameters. As a result, our study provide a comparitive analysis of the model's performance under different conditions. <br>\n",
    "<b>To check whether optimisation of Singalling system occurs; we will be looking at two parameters namely:</b> <br>\n",
    "    <ol>\n",
    "        <li>Sucessful number of games: Games where convention was established</li>\n",
    "        <li>Average number of interactions/games: For the convention to be established</li>\n",
    "    </ol>"
   ]
  },
  {
   "cell_type": "markdown",
   "id": "acff4bc5",
   "metadata": {},
   "source": [
    "For computational limitations certain decisions were made: \n",
    "<b>Note: For model 2-</b>\n",
    "<ol> \n",
    "    <li> Success-threshold was set at 95%, this made sense given the dynamics of the game - probability to shift upwards with every succesful interaction.</li>\n",
    "    <li> 10,000 experimental loops were run (or less if convention is reached before) and this process was repeated 50 times. <br><i>Note: The experimental loops and set repititions were chosen using trial-and-erorr as well as computational limitations. "
   ]
  },
  {
   "cell_type": "markdown",
   "id": "bb209113",
   "metadata": {},
   "source": [
    "### Features of Model 2 "
   ]
  },
  {
   "cell_type": "markdown",
   "id": "030efe6a",
   "metadata": {},
   "source": [
    "<b>Traditional Variables:</b>\n",
    "<ol>\n",
    "    <li>Number of Agents (num-agents): # of agents on the grid</li>\n",
    "    <li>Number of Signals (num-signals): # of signals sender possess</li>\n",
    "    <li>Number of States (num-states): # of signals world states</li>\n",
    "     <li>[run number]: The number of the experimental run out of 50.</li>\n",
    "     <li>Success threshold: Kept at 95% for all conditions for the ease of computational simulations. For info-bottleneck threshold was set at 65-66%</li>\n",
    "</ol>    "
   ]
  },
  {
   "cell_type": "markdown",
   "id": "e570076a",
   "metadata": {},
   "source": [
    "<b>New Variables:</b>\n",
    "<ol>\n",
    "    <li>Movement</li>\n",
    "    <li>Eavesdropping: Other than the traditional context, this model enables us to allow eavesdroppers to eavesdrop as well as play the signaling game in the next rounds.</li>\n",
    "</ol>    "
   ]
  },
  {
   "cell_type": "markdown",
   "id": "1ede0c3f",
   "metadata": {},
   "source": [
    "This model provides us with <b>essential parameters</b> to examine Lewis Signaling under Naturalistic Conditions:<ol>\n",
    "<li>Movement</li>\n",
    "    <ul>\n",
    "        <li>Random Movement</li>\n",
    "        <li>Biased/Directed Movement</li>\n",
    "    </ul>\n",
    "    <li>Eavesdropping</li>\n",
    "     <ul>\n",
    "        <li>On</li>\n",
    "        <li>Off</li>\n",
    "    </ul>"
   ]
  },
  {
   "cell_type": "markdown",
   "id": "a4b799c5",
   "metadata": {},
   "source": [
    "## Model 2 - Naturalisitc Condition"
   ]
  },
  {
   "cell_type": "markdown",
   "id": "6558b08c",
   "metadata": {},
   "source": [
    "### Dataset Naming Conventions"
   ]
  },
  {
   "cell_type": "markdown",
   "id": "7a49f0d8",
   "metadata": {},
   "source": [
    "<b>Movement Type : </b> Random Movement [Rm] or Biased Movement [Bm]<br>\n",
    "<b>Condition Type: </b> Traditional [T] or Asymmetric Condition [A]<br>\n",
    "<b>Condition Details: </b> Symmetric Condition [2v2] or Information-Bottleneck [3v2] or  Synonyms [2v3]<br>\n",
    "<b>Eavesdropping: </b> No Eavesdropping Population[\"\"] or Eavesdropping Population [e]\n",
    "\n",
    "Name = MovementType+ConditionType+ConditionDetails+Eavesdropping"
   ]
  },
  {
   "cell_type": "markdown",
   "id": "5be5f310",
   "metadata": {},
   "source": [
    "Thus, for instance, synonyms (asymmetric) condition with eavesdropping and Biased movement would be named as: <b><i>BmA2v3e.</i></b> \n",
    "\n",
    "Note: Some files are imported with \"_ng\" in the end. They are cleaned-up versions of the same dataset. The dataset was cleaned up to ease analysis."
   ]
  },
  {
   "cell_type": "markdown",
   "id": "f4be04b1",
   "metadata": {},
   "source": [
    "### Importing Files"
   ]
  },
  {
   "cell_type": "code",
   "execution_count": 47,
   "id": "1b5d618f",
   "metadata": {},
   "outputs": [],
   "source": [
    "# Tradition 2 State/ 2 Signals Condition\n",
    "BmT2v2 = pd.read_csv(\"https://raw.githubusercontent.com/akhand227/lewisSignalingResults-analysis/main/data/BmT2v2.csv\",  index_col = False)\n",
    "BmT2v2e = pd.read_csv(\"https://raw.githubusercontent.com/akhand227/lewisSignalingResults-analysis/main/data/BmT2v2e.csv\",  index_col = False)\n",
    "# Asymmetric Condition - Information-Bottleneck Condition \n",
    "BmA3v2 = pd.read_csv(\"https://raw.githubusercontent.com/akhand227/lewisSignalingResults-analysis/main/data/BmA3v2.csv\",  index_col = False)\n",
    "BmA3v2e = pd.read_csv(\"https://raw.githubusercontent.com/akhand227/lewisSignalingResults-analysis/main/data/BmA3v2e.csv\",  index_col = False)\n",
    "# Asymmetric Condition - Synonyms \n",
    "BmA2v3 =  pd.read_csv(\"https://raw.githubusercontent.com/akhand227/lewisSignalingResults-analysis/main/data/BmA2v3.csv\",  index_col = False)\n",
    "BmA2v3e = pd.read_csv(\"https://raw.githubusercontent.com/akhand227/lewisSignalingResults-analysis/main/data/BmA2v3e.csv\",  index_col = False)\n",
    "\n",
    "# For Number of Games DataSet\n",
    "# Tradition 2 State/ 2 Signals Condition\n",
    "BmT2v2_ng = pd.read_csv(\"https://raw.githubusercontent.com/akhand227/lewisSignalingResults-analysis/main/data/BmT2v2_ng.csv\",  index_col = False)\n",
    "BmT2v2e_ng = pd.read_csv(\"https://raw.githubusercontent.com/akhand227/lewisSignalingResults-analysis/main/data/BmT2v2e_ng.csv\",  index_col = False)\n",
    "# Asymmetric Condition - Information-Bottleneck Condition \n",
    "BmA3v2_ng = pd.read_csv(\"https://raw.githubusercontent.com/akhand227/lewisSignalingResults-analysis/main/data/BmA3v2_ng.csv\",  index_col = False)\n",
    "BmA3v2e_ng = pd.read_csv(\"https://raw.githubusercontent.com/akhand227/lewisSignalingResults-analysis/main/data/BmA3v2e_ng.csv\",  index_col = False)\n",
    "# Asymmetric Condition - Synonyms \n",
    "BmA2v3_ng =  pd.read_csv(\"https://raw.githubusercontent.com/akhand227/lewisSignalingResults-analysis/main/data/BmA2v3_ng.csv\",  index_col = False)\n",
    "BmA2v3e_ng = pd.read_csv(\"https://raw.githubusercontent.com/akhand227/lewisSignalingResults-analysis/main/data/BmA2v3e_ng.csv\",  index_col = False)"
   ]
  },
  {
   "cell_type": "markdown",
   "id": "b9a18ffc",
   "metadata": {},
   "source": [
    "## Evaluation Step (i)        \n",
    "### Sucessful number of games: Games where convention was established out of total of 50 games.\n"
   ]
  },
  {
   "cell_type": "markdown",
   "id": "8711ba02",
   "metadata": {},
   "source": [
    "This let us know under which conditions conventions were established out of a set of 50 simulations (that allows for 10,000 internal loops)."
   ]
  },
  {
   "cell_type": "markdown",
   "id": "1e40a38d",
   "metadata": {},
   "source": [
    "<b>Looking at the dataset below for Biased Movement Traditional (2v2) condition, we can elaborate on each of the variables a bit:</b><br>\n",
    "<ol>\n",
    "    <li>[run number]: The number of the experimental run out of 50.</li>\n",
    "    <li>num-signals: The number of signals available to convey information.</li>\n",
    "        <li>num-agents The number of agents within our grid. This was kept constant at 3 for reasons.</li>\n",
    "            <li>[run number]: The number of agents within our grid. This was kept constant at 3 for reasons.</li>\n",
    "    <li>Success threshold: Kept at 95% for all conditions for the ease of computational simulations. For info-bottleneck threshold was set at 65-66%</li>\n",
    "    <li>num-states: The number of all possible states in the world. </li>\n",
    "        <li>biased-movement: If true, agent move with the intent to socialise; if false agents move randomly. </li>\n",
    "    <li>steps: The number of internal loops it took out of total of 10,000 loops before establishing convention.</li>\n",
    "    <li>Success? status: Provides us with the exact number of interaction or signaling games it took between agents before establishing convention. </li>"
   ]
  },
  {
   "cell_type": "code",
   "execution_count": 48,
   "id": "fde98058",
   "metadata": {
    "scrolled": false
   },
   "outputs": [
    {
     "data": {
      "text/html": [
       "<div><div id=dccb62c4-d033-4982-ac06-435e06d757af style=\"display:none; background-color:#9D6CFF; color:white; width:200px; height:30px; padding-left:5px; border-radius:4px; flex-direction:row; justify-content:space-around; align-items:center;\" onmouseover=\"this.style.backgroundColor='#BA9BF8'\" onmouseout=\"this.style.backgroundColor='#9D6CFF'\" onclick=\"window.commands?.execute('create-mitosheet-from-dataframe-output');\">See Full Dataframe in Mito</div> <script> if (window.commands?.hasCommand('create-mitosheet-from-dataframe-output')) document.getElementById('dccb62c4-d033-4982-ac06-435e06d757af').style.display = 'flex' </script> <table border=\"1\" class=\"dataframe\">\n",
       "  <thead>\n",
       "    <tr style=\"text-align: right;\">\n",
       "      <th></th>\n",
       "      <th>[run number]</th>\n",
       "      <th>1</th>\n",
       "      <th>2</th>\n",
       "      <th>3</th>\n",
       "      <th>4</th>\n",
       "      <th>5</th>\n",
       "      <th>6</th>\n",
       "      <th>7</th>\n",
       "      <th>8</th>\n",
       "      <th>9</th>\n",
       "      <th>...</th>\n",
       "      <th>41</th>\n",
       "      <th>42</th>\n",
       "      <th>43</th>\n",
       "      <th>44</th>\n",
       "      <th>45</th>\n",
       "      <th>46</th>\n",
       "      <th>47</th>\n",
       "      <th>48</th>\n",
       "      <th>49</th>\n",
       "      <th>50</th>\n",
       "    </tr>\n",
       "  </thead>\n",
       "  <tbody>\n",
       "    <tr>\n",
       "      <th>0</th>\n",
       "      <td>eavesdroppers?</td>\n",
       "      <td>FALSE</td>\n",
       "      <td>FALSE</td>\n",
       "      <td>FALSE</td>\n",
       "      <td>FALSE</td>\n",
       "      <td>FALSE</td>\n",
       "      <td>FALSE</td>\n",
       "      <td>FALSE</td>\n",
       "      <td>FALSE</td>\n",
       "      <td>FALSE</td>\n",
       "      <td>...</td>\n",
       "      <td>FALSE</td>\n",
       "      <td>FALSE</td>\n",
       "      <td>FALSE</td>\n",
       "      <td>FALSE</td>\n",
       "      <td>FALSE</td>\n",
       "      <td>FALSE</td>\n",
       "      <td>FALSE</td>\n",
       "      <td>FALSE</td>\n",
       "      <td>FALSE</td>\n",
       "      <td>FALSE</td>\n",
       "    </tr>\n",
       "    <tr>\n",
       "      <th>1</th>\n",
       "      <td>num-signals</td>\n",
       "      <td>2</td>\n",
       "      <td>2</td>\n",
       "      <td>2</td>\n",
       "      <td>2</td>\n",
       "      <td>2</td>\n",
       "      <td>2</td>\n",
       "      <td>2</td>\n",
       "      <td>2</td>\n",
       "      <td>2</td>\n",
       "      <td>...</td>\n",
       "      <td>2</td>\n",
       "      <td>2</td>\n",
       "      <td>2</td>\n",
       "      <td>2</td>\n",
       "      <td>2</td>\n",
       "      <td>2</td>\n",
       "      <td>2</td>\n",
       "      <td>2</td>\n",
       "      <td>2</td>\n",
       "      <td>2</td>\n",
       "    </tr>\n",
       "    <tr>\n",
       "      <th>2</th>\n",
       "      <td>num-agents</td>\n",
       "      <td>3</td>\n",
       "      <td>3</td>\n",
       "      <td>3</td>\n",
       "      <td>3</td>\n",
       "      <td>3</td>\n",
       "      <td>3</td>\n",
       "      <td>3</td>\n",
       "      <td>3</td>\n",
       "      <td>3</td>\n",
       "      <td>...</td>\n",
       "      <td>3</td>\n",
       "      <td>3</td>\n",
       "      <td>3</td>\n",
       "      <td>3</td>\n",
       "      <td>3</td>\n",
       "      <td>3</td>\n",
       "      <td>3</td>\n",
       "      <td>3</td>\n",
       "      <td>3</td>\n",
       "      <td>3</td>\n",
       "    </tr>\n",
       "    <tr>\n",
       "      <th>3</th>\n",
       "      <td>success-threshold</td>\n",
       "      <td>95</td>\n",
       "      <td>95</td>\n",
       "      <td>95</td>\n",
       "      <td>95</td>\n",
       "      <td>95</td>\n",
       "      <td>95</td>\n",
       "      <td>95</td>\n",
       "      <td>95</td>\n",
       "      <td>95</td>\n",
       "      <td>...</td>\n",
       "      <td>95</td>\n",
       "      <td>95</td>\n",
       "      <td>95</td>\n",
       "      <td>95</td>\n",
       "      <td>95</td>\n",
       "      <td>95</td>\n",
       "      <td>95</td>\n",
       "      <td>95</td>\n",
       "      <td>95</td>\n",
       "      <td>95</td>\n",
       "    </tr>\n",
       "    <tr>\n",
       "      <th>4</th>\n",
       "      <td>failure-update?</td>\n",
       "      <td>FALSE</td>\n",
       "      <td>FALSE</td>\n",
       "      <td>FALSE</td>\n",
       "      <td>FALSE</td>\n",
       "      <td>FALSE</td>\n",
       "      <td>FALSE</td>\n",
       "      <td>FALSE</td>\n",
       "      <td>FALSE</td>\n",
       "      <td>FALSE</td>\n",
       "      <td>...</td>\n",
       "      <td>FALSE</td>\n",
       "      <td>FALSE</td>\n",
       "      <td>FALSE</td>\n",
       "      <td>FALSE</td>\n",
       "      <td>FALSE</td>\n",
       "      <td>FALSE</td>\n",
       "      <td>FALSE</td>\n",
       "      <td>FALSE</td>\n",
       "      <td>FALSE</td>\n",
       "      <td>FALSE</td>\n",
       "    </tr>\n",
       "    <tr>\n",
       "      <th>...</th>\n",
       "      <td>...</td>\n",
       "      <td>...</td>\n",
       "      <td>...</td>\n",
       "      <td>...</td>\n",
       "      <td>...</td>\n",
       "      <td>...</td>\n",
       "      <td>...</td>\n",
       "      <td>...</td>\n",
       "      <td>...</td>\n",
       "      <td>...</td>\n",
       "      <td>...</td>\n",
       "      <td>...</td>\n",
       "      <td>...</td>\n",
       "      <td>...</td>\n",
       "      <td>...</td>\n",
       "      <td>...</td>\n",
       "      <td>...</td>\n",
       "      <td>...</td>\n",
       "      <td>...</td>\n",
       "      <td>...</td>\n",
       "      <td>...</td>\n",
       "    </tr>\n",
       "    <tr>\n",
       "      <th>6</th>\n",
       "      <td>biased-movement?</td>\n",
       "      <td>TRUE</td>\n",
       "      <td>TRUE</td>\n",
       "      <td>TRUE</td>\n",
       "      <td>TRUE</td>\n",
       "      <td>TRUE</td>\n",
       "      <td>TRUE</td>\n",
       "      <td>TRUE</td>\n",
       "      <td>TRUE</td>\n",
       "      <td>TRUE</td>\n",
       "      <td>...</td>\n",
       "      <td>TRUE</td>\n",
       "      <td>TRUE</td>\n",
       "      <td>TRUE</td>\n",
       "      <td>TRUE</td>\n",
       "      <td>TRUE</td>\n",
       "      <td>TRUE</td>\n",
       "      <td>TRUE</td>\n",
       "      <td>TRUE</td>\n",
       "      <td>TRUE</td>\n",
       "      <td>TRUE</td>\n",
       "    </tr>\n",
       "    <tr>\n",
       "      <th>7</th>\n",
       "      <td>[steps]</td>\n",
       "      <td>1578</td>\n",
       "      <td>1272</td>\n",
       "      <td>1515</td>\n",
       "      <td>3194</td>\n",
       "      <td>10000</td>\n",
       "      <td>4472</td>\n",
       "      <td>10000</td>\n",
       "      <td>290</td>\n",
       "      <td>177</td>\n",
       "      <td>...</td>\n",
       "      <td>280</td>\n",
       "      <td>324</td>\n",
       "      <td>248</td>\n",
       "      <td>406</td>\n",
       "      <td>970</td>\n",
       "      <td>413</td>\n",
       "      <td>831</td>\n",
       "      <td>419</td>\n",
       "      <td>694</td>\n",
       "      <td>1067</td>\n",
       "    </tr>\n",
       "    <tr>\n",
       "      <th>8</th>\n",
       "      <td>NaN</td>\n",
       "      <td>NaN</td>\n",
       "      <td>NaN</td>\n",
       "      <td>NaN</td>\n",
       "      <td>NaN</td>\n",
       "      <td>NaN</td>\n",
       "      <td>NaN</td>\n",
       "      <td>NaN</td>\n",
       "      <td>NaN</td>\n",
       "      <td>NaN</td>\n",
       "      <td>...</td>\n",
       "      <td>NaN</td>\n",
       "      <td>NaN</td>\n",
       "      <td>NaN</td>\n",
       "      <td>NaN</td>\n",
       "      <td>NaN</td>\n",
       "      <td>NaN</td>\n",
       "      <td>NaN</td>\n",
       "      <td>NaN</td>\n",
       "      <td>NaN</td>\n",
       "      <td>NaN</td>\n",
       "    </tr>\n",
       "    <tr>\n",
       "      <th>9</th>\n",
       "      <td>[initial &amp; final values]</td>\n",
       "      <td>success?</td>\n",
       "      <td>success?</td>\n",
       "      <td>success?</td>\n",
       "      <td>success?</td>\n",
       "      <td>success?</td>\n",
       "      <td>success?</td>\n",
       "      <td>success?</td>\n",
       "      <td>success?</td>\n",
       "      <td>success?</td>\n",
       "      <td>...</td>\n",
       "      <td>success?</td>\n",
       "      <td>success?</td>\n",
       "      <td>success?</td>\n",
       "      <td>success?</td>\n",
       "      <td>success?</td>\n",
       "      <td>success?</td>\n",
       "      <td>success?</td>\n",
       "      <td>success?</td>\n",
       "      <td>success?</td>\n",
       "      <td>success?</td>\n",
       "    </tr>\n",
       "    <tr>\n",
       "      <th>10</th>\n",
       "      <td>status</td>\n",
       "      <td>1044.00</td>\n",
       "      <td>829.00</td>\n",
       "      <td>1025.00</td>\n",
       "      <td>2071.00</td>\n",
       "      <td>No</td>\n",
       "      <td>2935.00</td>\n",
       "      <td>No</td>\n",
       "      <td>177.00</td>\n",
       "      <td>114.00</td>\n",
       "      <td>...</td>\n",
       "      <td>178.00</td>\n",
       "      <td>211.00</td>\n",
       "      <td>222.00</td>\n",
       "      <td>282.00</td>\n",
       "      <td>608.00</td>\n",
       "      <td>267.00</td>\n",
       "      <td>516.00</td>\n",
       "      <td>293.00</td>\n",
       "      <td>419.00</td>\n",
       "      <td>707.00</td>\n",
       "    </tr>\n",
       "  </tbody>\n",
       "</table></div>"
      ],
      "text/plain": [
       "                [run number]         1         2         3         4  \\\n",
       "0             eavesdroppers?     FALSE     FALSE     FALSE     FALSE   \n",
       "1                num-signals         2         2         2         2   \n",
       "2                 num-agents         3         3         3         3   \n",
       "3          success-threshold        95        95        95        95   \n",
       "4            failure-update?     FALSE     FALSE     FALSE     FALSE   \n",
       "5                 num-states         2         2         2         2   \n",
       "6           biased-movement?      TRUE      TRUE      TRUE      TRUE   \n",
       "7                    [steps]      1578      1272      1515      3194   \n",
       "8                        NaN       NaN       NaN       NaN       NaN   \n",
       "9   [initial & final values]  success?  success?  success?  success?   \n",
       "10                    status   1044.00    829.00   1025.00   2071.00   \n",
       "\n",
       "           5         6         7         8         9  ...        41        42  \\\n",
       "0      FALSE     FALSE     FALSE     FALSE     FALSE  ...     FALSE     FALSE   \n",
       "1          2         2         2         2         2  ...         2         2   \n",
       "2          3         3         3         3         3  ...         3         3   \n",
       "3         95        95        95        95        95  ...        95        95   \n",
       "4      FALSE     FALSE     FALSE     FALSE     FALSE  ...     FALSE     FALSE   \n",
       "5          2         2         2         2         2  ...         2         2   \n",
       "6       TRUE      TRUE      TRUE      TRUE      TRUE  ...      TRUE      TRUE   \n",
       "7      10000      4472     10000       290       177  ...       280       324   \n",
       "8        NaN       NaN       NaN       NaN       NaN  ...       NaN       NaN   \n",
       "9   success?  success?  success?  success?  success?  ...  success?  success?   \n",
       "10        No   2935.00        No    177.00    114.00  ...    178.00    211.00   \n",
       "\n",
       "          43        44        45        46        47        48        49  \\\n",
       "0      FALSE     FALSE     FALSE     FALSE     FALSE     FALSE     FALSE   \n",
       "1          2         2         2         2         2         2         2   \n",
       "2          3         3         3         3         3         3         3   \n",
       "3         95        95        95        95        95        95        95   \n",
       "4      FALSE     FALSE     FALSE     FALSE     FALSE     FALSE     FALSE   \n",
       "5          2         2         2         2         2         2         2   \n",
       "6       TRUE      TRUE      TRUE      TRUE      TRUE      TRUE      TRUE   \n",
       "7        248       406       970       413       831       419       694   \n",
       "8        NaN       NaN       NaN       NaN       NaN       NaN       NaN   \n",
       "9   success?  success?  success?  success?  success?  success?  success?   \n",
       "10    222.00    282.00    608.00    267.00    516.00    293.00    419.00   \n",
       "\n",
       "          50  \n",
       "0      FALSE  \n",
       "1          2  \n",
       "2          3  \n",
       "3         95  \n",
       "4      FALSE  \n",
       "5          2  \n",
       "6       TRUE  \n",
       "7       1067  \n",
       "8        NaN  \n",
       "9   success?  \n",
       "10    707.00  \n",
       "\n",
       "[11 rows x 51 columns]"
      ]
     },
     "execution_count": 48,
     "metadata": {},
     "output_type": "execute_result"
    }
   ],
   "source": [
    "BmT2v2.head(11)"
   ]
  },
  {
   "cell_type": "markdown",
   "id": "10e88827",
   "metadata": {},
   "source": [
    "### First, we will examine similar condition (with everything constant) and eavesdropping varied for Biased Movement."
   ]
  },
  {
   "cell_type": "markdown",
   "id": "fe7eea11",
   "metadata": {},
   "source": [
    "#### This will be done through data visualisations that are derived from our imported datasets."
   ]
  },
  {
   "cell_type": "markdown",
   "id": "e6da9835",
   "metadata": {},
   "source": [
    "## Biased Movement under Symmetric Condition (2states-2signals condition)"
   ]
  },
  {
   "cell_type": "code",
   "execution_count": 49,
   "id": "72cbcecd",
   "metadata": {
    "scrolled": false
   },
   "outputs": [
    {
     "data": {
      "image/png": "[encoded data removed]",
      "text/plain": [
       "<Figure size 432x288 with 1 Axes>"
      ]
     },
     "metadata": {
      "needs_background": "light"
     },
     "output_type": "display_data"
    }
   ],
   "source": [
    "#helper function for visualisation takes in 2 data files for analysis.\n",
    "chart_games(BmT2v2, BmT2v2e, \"Biased Movement under Symmetric Conditions\") "
   ]
  },
  {
   "cell_type": "markdown",
   "id": "4b49a80c",
   "metadata": {},
   "source": [
    "<b>Conclusion: With eavesdroppers present in the population, we were able to gain convention in more number of games. </b>"
   ]
  },
  {
   "cell_type": "markdown",
   "id": "2a057da9",
   "metadata": {},
   "source": [
    "## Biased Movement under Asymmetric Condition (3states-2signals condition)"
   ]
  },
  {
   "cell_type": "code",
   "execution_count": 50,
   "id": "74abcdcd",
   "metadata": {},
   "outputs": [
    {
     "data": {
      "image/png": "[encoded data removed]",
      "text/plain": [
       "<Figure size 432x288 with 1 Axes>"
      ]
     },
     "metadata": {
      "needs_background": "light"
     },
     "output_type": "display_data"
    }
   ],
   "source": [
    "chart_games(BmA2v3, BmA2v3e, \"Biased Movement under Asymmetric Conditions - Info-Bottleneck 65% Threshold\")"
   ]
  },
  {
   "cell_type": "markdown",
   "id": "6d90a08d",
   "metadata": {},
   "source": [
    "<b>Conclusion: With eavesdroppers present in the population, we were able to gain convention in more number of games. </b>"
   ]
  },
  {
   "cell_type": "markdown",
   "id": "24170877",
   "metadata": {},
   "source": [
    "## Biased Movement under Asymmetric Condition (2states-3signals condition)"
   ]
  },
  {
   "cell_type": "code",
   "execution_count": 51,
   "id": "f5c1c51f",
   "metadata": {
    "scrolled": true
   },
   "outputs": [
    {
     "data": {
      "image/png": "[encoded data removed]",
      "text/plain": [
       "<Figure size 432x288 with 1 Axes>"
      ]
     },
     "metadata": {
      "needs_background": "light"
     },
     "output_type": "display_data"
    }
   ],
   "source": [
    "chart_games(BmA3v2, BmA3v2e, \"Biased Movement under Asymmetric Conditions - Synonym Conditions\")"
   ]
  },
  {
   "cell_type": "markdown",
   "id": "dbdf6d68",
   "metadata": {},
   "source": [
    "Synonyms condition was interesting as within more-signals less-states condition under both eavesdroppers and without eavesdroppers we see a 100% success rate where signaling convention was eastablished in 50 / 50 games. <br>\n",
    "<b>Conclusion: No eavesdropping effect observed (by chance) within 2 states - 3 signals condition. </b>"
   ]
  },
  {
   "cell_type": "markdown",
   "id": "4ce3c721",
   "metadata": {},
   "source": [
    "<hr>"
   ]
  },
  {
   "cell_type": "markdown",
   "id": "719508f1",
   "metadata": {},
   "source": [
    "## Evaluation Step (ii)        \n",
    "### Average number of interactions/games it took before convention was established. "
   ]
  },
  {
   "cell_type": "markdown",
   "id": "686c364b",
   "metadata": {},
   "source": [
    "## Biased Movement under Symmetric Condition (2states-2signals condition)"
   ]
  },
  {
   "cell_type": "code",
   "execution_count": 52,
   "id": "825916db",
   "metadata": {
    "scrolled": true
   },
   "outputs": [
    {
     "data": {
      "image/png": "[encoded data removed]",
      "text/plain": [
       "<Figure size 432x288 with 1 Axes>"
      ]
     },
     "metadata": {
      "needs_background": "light"
     },
     "output_type": "display_data"
    }
   ],
   "source": [
    "chart_Avergames(BmT2v2_ng, BmT2v2e_ng,\"Traditional Condition\")"
   ]
  },
  {
   "cell_type": "markdown",
   "id": "5b478a94",
   "metadata": {},
   "source": [
    "<b>Conclusion: With eavesdroppers present in the population, we were able to gain convention with lower number of interaction among the agents.</b>"
   ]
  },
  {
   "cell_type": "markdown",
   "id": "726201ca",
   "metadata": {},
   "source": [
    "## Biased Movement under Asymmetric Condition (2states-3signals condition)"
   ]
  },
  {
   "cell_type": "code",
   "execution_count": 53,
   "id": "0d0f511b",
   "metadata": {
    "scrolled": true
   },
   "outputs": [
    {
     "data": {
      "image/png": "[encoded data removed]",
      "text/plain": [
       "<Figure size 432x288 with 1 Axes>"
      ]
     },
     "metadata": {
      "needs_background": "light"
     },
     "output_type": "display_data"
    }
   ],
   "source": [
    "chart_Avergames(BmA2v3_ng, BmA2v3e_ng,\"Asymmetric Condition - Synonyms\")"
   ]
  },
  {
   "cell_type": "markdown",
   "id": "363daf36",
   "metadata": {},
   "source": [
    "<b>Conclusion: With eavesdroppers present in the population, we were able to gain convention with lower number of interaction among the agents.</b>"
   ]
  },
  {
   "cell_type": "markdown",
   "id": "c9fae3d4",
   "metadata": {},
   "source": [
    "## Biased Movement under Asymmetric Condition (3states-2signals condition)"
   ]
  },
  {
   "cell_type": "code",
   "execution_count": 54,
   "id": "18809acc",
   "metadata": {
    "scrolled": true
   },
   "outputs": [
    {
     "data": {
      "image/png": "[encoded data removed]",
      "text/plain": [
       "<Figure size 432x288 with 1 Axes>"
      ]
     },
     "metadata": {
      "needs_background": "light"
     },
     "output_type": "display_data"
    }
   ],
   "source": [
    "chart_Avergames(BmA3v2_ng, BmA3v2e_ng,\"Asymmetric Condition - Info-Bottleneck\")"
   ]
  },
  {
   "cell_type": "markdown",
   "id": "5511c9a7",
   "metadata": {},
   "source": [
    "<b>Conclusion: With eavesdroppers present in the population, we were able to gain convention with lower number of interaction among the agents.</b> The difference was highest within the info-bottleneck condition."
   ]
  },
  {
   "cell_type": "markdown",
   "id": "fcac683d",
   "metadata": {},
   "source": [
    "<hr><hr>"
   ]
  },
  {
   "cell_type": "markdown",
   "id": "f829f155",
   "metadata": {},
   "source": [
    "Before moving onto Random movement it is important to note that <b>Random Movement underperformed significantly under the normal 10x10 spatial grid which was used to study Biased Movement. This can be verified at: https://github.com/akhand227/lewisSignalingResults-analysis/tree/main/RandomMovement </b>\n",
    "\n"
   ]
  },
  {
   "cell_type": "markdown",
   "id": "69d84e9f",
   "metadata": {},
   "source": [
    "This meant that due to Random Movements agents were unable to interact and play the signaling game. Further experimentation revealed that we could attribute this effect due to the #of agents and space area of the spatial grid where agents move.<br> As we can imagine, with a more densely packed grid there will be more interactions and Random movement can itself emerge as a useful tactic. This becomes a bit more evident when we take a look at the analysis done on the reduce grid area size. <br>\n",
    "<b>As a result, to study random movement, 10x10 grid was significantly reduced to a 4x4 spatial grid. </b>"
   ]
  },
  {
   "cell_type": "markdown",
   "id": "8d2f3301",
   "metadata": {},
   "source": [
    "## Now onto Random Movement"
   ]
  },
  {
   "cell_type": "markdown",
   "id": "acc2fe33",
   "metadata": {},
   "source": [
    "### Importing Files"
   ]
  },
  {
   "cell_type": "code",
   "execution_count": 55,
   "id": "9b72499e",
   "metadata": {},
   "outputs": [],
   "source": [
    "# Tradition 2 State/ 2 Signals Condition\n",
    "RmT2v2 = pd.read_csv(\"https://raw.githubusercontent.com/akhand227/lewisSignalingResults-analysis/main/data/RmT2v2.csv\",  index_col = False)\n",
    "RmT2v2e = pd.read_csv(\"https://raw.githubusercontent.com/akhand227/lewisSignalingResults-analysis/main/data/RmT2v2e.csv\",  index_col = False)\n",
    "# Asymmetric Condition - Information-Bottleneck Condition \n",
    "RmA3v2 = pd.read_csv(\"https://raw.githubusercontent.com/akhand227/lewisSignalingResults-analysis/main/data/RmA3v2.csv\",  index_col = False)\n",
    "RmA3v2e = pd.read_csv(\"https://raw.githubusercontent.com/akhand227/lewisSignalingResults-analysis/main/data/RmA3v2e.csv\",  index_col = False)\n",
    "# Asymmetric Condition - Synonyms \n",
    "RmA2v3 =  pd.read_csv(\"RmA2v3.csv\",  index_col = False)\n",
    "RmA2v3e = pd.read_csv(\"RmA2v3e.csv\",  index_col = False)\n",
    "\n",
    "# For Number of Games DataSet\n",
    "# Tradition 2 State/ 2 Signals Condition\n",
    "RmT2v2_ng = pd.read_csv(\"https://raw.githubusercontent.com/akhand227/lewisSignalingResults-analysis/main/data/RmT2v2_ng.csv\",  index_col = False)\n",
    "RmT2v2e_ng = pd.read_csv(\"https://raw.githubusercontent.com/akhand227/lewisSignalingResults-analysis/main/data/RmT2v2e_ng.csv\",  index_col = False)\n",
    "# Asymmetric Condition - Information-Bottleneck Condition \n",
    "RmA3v2_ng = pd.read_csv(\"https://raw.githubusercontent.com/akhand227/lewisSignalingResults-analysis/main/data/RmA3v2_ng.csv\",  index_col = False)\n",
    "RmA3v2e_ng = pd.read_csv(\"https://raw.githubusercontent.com/akhand227/lewisSignalingResults-analysis/main/data/RmA3v2e_ng.csv\",  index_col = False)\n",
    "# Asymmetric Condition - Synonyms \n",
    "RmA2v3_ng =  pd.read_csv(\"https://raw.githubusercontent.com/akhand227/lewisSignalingResults-analysis/main/data/RmA2v3_ng.csv\",  index_col = False)\n",
    "RmA2v3e_ng = pd.read_csv(\"https://raw.githubusercontent.com/akhand227/lewisSignalingResults-analysis/main/data/RmA2v3e_ng.csv\",  index_col = False)"
   ]
  },
  {
   "cell_type": "markdown",
   "id": "0e929e30",
   "metadata": {},
   "source": [
    "<h3> Variable from Model 2 </h3>\n",
    "<ol>\n",
    "    <li>[run number]: The number of the experimental run out of 50.</li>\n",
    "    <li>num-signals: The number of signals available to convey information.</li>\n",
    "        <li>num-agents The number of agents within our grid. This was kept constant at 3 for reasons.</li>\n",
    "            <li>[run number]: The number of agents within our grid. This was kept constant at 3 for reasons.</li>\n",
    "    <li>Success threshold: Kept at 95% for all conditions for the ease of computational simulations. For info-bottleneck threshold was set at 65-66%</li>\n",
    "    <li>num-states: The number of all possible states in the world. </li>\n",
    "        <li>biased-movement: If true, agent move with the intent to socialise; if false agents move randomly. </li>\n",
    "    <li>steps: The number of internal loops it took out of total of 10,000 loops before establishing convention.</li>\n",
    "    <li>Success? status: Provides us with the exact number of interaction or signaling games it took between agents before establishing convention. </li>"
   ]
  },
  {
   "cell_type": "code",
   "execution_count": 56,
   "id": "c9d1a502",
   "metadata": {
    "scrolled": true
   },
   "outputs": [
    {
     "data": {
      "text/html": [
       "<div><div id=3a6b65b1-833e-4def-9294-193dbe6dbae4 style=\"display:none; background-color:#9D6CFF; color:white; width:200px; height:30px; padding-left:5px; border-radius:4px; flex-direction:row; justify-content:space-around; align-items:center;\" onmouseover=\"this.style.backgroundColor='#BA9BF8'\" onmouseout=\"this.style.backgroundColor='#9D6CFF'\" onclick=\"window.commands?.execute('create-mitosheet-from-dataframe-output');\">See Full Dataframe in Mito</div> <script> if (window.commands?.hasCommand('create-mitosheet-from-dataframe-output')) document.getElementById('3a6b65b1-833e-4def-9294-193dbe6dbae4').style.display = 'flex' </script> <table border=\"1\" class=\"dataframe\">\n",
       "  <thead>\n",
       "    <tr style=\"text-align: right;\">\n",
       "      <th></th>\n",
       "      <th>[run number]</th>\n",
       "      <th>1</th>\n",
       "      <th>2</th>\n",
       "      <th>3</th>\n",
       "      <th>4</th>\n",
       "      <th>5</th>\n",
       "      <th>6</th>\n",
       "      <th>7</th>\n",
       "      <th>8</th>\n",
       "      <th>9</th>\n",
       "      <th>...</th>\n",
       "      <th>41</th>\n",
       "      <th>42</th>\n",
       "      <th>43</th>\n",
       "      <th>44</th>\n",
       "      <th>45</th>\n",
       "      <th>46</th>\n",
       "      <th>47</th>\n",
       "      <th>48</th>\n",
       "      <th>49</th>\n",
       "      <th>50</th>\n",
       "    </tr>\n",
       "  </thead>\n",
       "  <tbody>\n",
       "    <tr>\n",
       "      <th>0</th>\n",
       "      <td>eavesdroppers?</td>\n",
       "      <td>FALSE</td>\n",
       "      <td>FALSE</td>\n",
       "      <td>FALSE</td>\n",
       "      <td>FALSE</td>\n",
       "      <td>FALSE</td>\n",
       "      <td>FALSE</td>\n",
       "      <td>FALSE</td>\n",
       "      <td>FALSE</td>\n",
       "      <td>FALSE</td>\n",
       "      <td>...</td>\n",
       "      <td>FALSE</td>\n",
       "      <td>FALSE</td>\n",
       "      <td>FALSE</td>\n",
       "      <td>FALSE</td>\n",
       "      <td>FALSE</td>\n",
       "      <td>FALSE</td>\n",
       "      <td>FALSE</td>\n",
       "      <td>FALSE</td>\n",
       "      <td>FALSE</td>\n",
       "      <td>FALSE</td>\n",
       "    </tr>\n",
       "    <tr>\n",
       "      <th>1</th>\n",
       "      <td>num-signals</td>\n",
       "      <td>2</td>\n",
       "      <td>2</td>\n",
       "      <td>2</td>\n",
       "      <td>2</td>\n",
       "      <td>2</td>\n",
       "      <td>2</td>\n",
       "      <td>2</td>\n",
       "      <td>2</td>\n",
       "      <td>2</td>\n",
       "      <td>...</td>\n",
       "      <td>2</td>\n",
       "      <td>2</td>\n",
       "      <td>2</td>\n",
       "      <td>2</td>\n",
       "      <td>2</td>\n",
       "      <td>2</td>\n",
       "      <td>2</td>\n",
       "      <td>2</td>\n",
       "      <td>2</td>\n",
       "      <td>2</td>\n",
       "    </tr>\n",
       "    <tr>\n",
       "      <th>2</th>\n",
       "      <td>num-agents</td>\n",
       "      <td>3</td>\n",
       "      <td>3</td>\n",
       "      <td>3</td>\n",
       "      <td>3</td>\n",
       "      <td>3</td>\n",
       "      <td>3</td>\n",
       "      <td>3</td>\n",
       "      <td>3</td>\n",
       "      <td>3</td>\n",
       "      <td>...</td>\n",
       "      <td>3</td>\n",
       "      <td>3</td>\n",
       "      <td>3</td>\n",
       "      <td>3</td>\n",
       "      <td>3</td>\n",
       "      <td>3</td>\n",
       "      <td>3</td>\n",
       "      <td>3</td>\n",
       "      <td>3</td>\n",
       "      <td>3</td>\n",
       "    </tr>\n",
       "    <tr>\n",
       "      <th>3</th>\n",
       "      <td>success-threshold</td>\n",
       "      <td>65</td>\n",
       "      <td>65</td>\n",
       "      <td>65</td>\n",
       "      <td>65</td>\n",
       "      <td>65</td>\n",
       "      <td>65</td>\n",
       "      <td>65</td>\n",
       "      <td>65</td>\n",
       "      <td>65</td>\n",
       "      <td>...</td>\n",
       "      <td>65</td>\n",
       "      <td>65</td>\n",
       "      <td>65</td>\n",
       "      <td>65</td>\n",
       "      <td>65</td>\n",
       "      <td>65</td>\n",
       "      <td>65</td>\n",
       "      <td>65</td>\n",
       "      <td>65</td>\n",
       "      <td>65</td>\n",
       "    </tr>\n",
       "    <tr>\n",
       "      <th>4</th>\n",
       "      <td>failure-update?</td>\n",
       "      <td>FALSE</td>\n",
       "      <td>FALSE</td>\n",
       "      <td>FALSE</td>\n",
       "      <td>FALSE</td>\n",
       "      <td>FALSE</td>\n",
       "      <td>FALSE</td>\n",
       "      <td>FALSE</td>\n",
       "      <td>FALSE</td>\n",
       "      <td>FALSE</td>\n",
       "      <td>...</td>\n",
       "      <td>FALSE</td>\n",
       "      <td>FALSE</td>\n",
       "      <td>FALSE</td>\n",
       "      <td>FALSE</td>\n",
       "      <td>FALSE</td>\n",
       "      <td>FALSE</td>\n",
       "      <td>FALSE</td>\n",
       "      <td>FALSE</td>\n",
       "      <td>FALSE</td>\n",
       "      <td>FALSE</td>\n",
       "    </tr>\n",
       "    <tr>\n",
       "      <th>5</th>\n",
       "      <td>biased-movement?</td>\n",
       "      <td>FALSE</td>\n",
       "      <td>FALSE</td>\n",
       "      <td>FALSE</td>\n",
       "      <td>FALSE</td>\n",
       "      <td>FALSE</td>\n",
       "      <td>FALSE</td>\n",
       "      <td>FALSE</td>\n",
       "      <td>FALSE</td>\n",
       "      <td>FALSE</td>\n",
       "      <td>...</td>\n",
       "      <td>FALSE</td>\n",
       "      <td>FALSE</td>\n",
       "      <td>FALSE</td>\n",
       "      <td>FALSE</td>\n",
       "      <td>FALSE</td>\n",
       "      <td>FALSE</td>\n",
       "      <td>FALSE</td>\n",
       "      <td>FALSE</td>\n",
       "      <td>FALSE</td>\n",
       "      <td>FALSE</td>\n",
       "    </tr>\n",
       "  </tbody>\n",
       "</table></div>"
      ],
      "text/plain": [
       "        [run number]      1      2      3      4      5      6      7      8  \\\n",
       "0     eavesdroppers?  FALSE  FALSE  FALSE  FALSE  FALSE  FALSE  FALSE  FALSE   \n",
       "1        num-signals      2      2      2      2      2      2      2      2   \n",
       "2         num-agents      3      3      3      3      3      3      3      3   \n",
       "3  success-threshold     65     65     65     65     65     65     65     65   \n",
       "4    failure-update?  FALSE  FALSE  FALSE  FALSE  FALSE  FALSE  FALSE  FALSE   \n",
       "5   biased-movement?  FALSE  FALSE  FALSE  FALSE  FALSE  FALSE  FALSE  FALSE   \n",
       "\n",
       "       9  ...     41     42     43     44     45     46     47     48     49  \\\n",
       "0  FALSE  ...  FALSE  FALSE  FALSE  FALSE  FALSE  FALSE  FALSE  FALSE  FALSE   \n",
       "1      2  ...      2      2      2      2      2      2      2      2      2   \n",
       "2      3  ...      3      3      3      3      3      3      3      3      3   \n",
       "3     65  ...     65     65     65     65     65     65     65     65     65   \n",
       "4  FALSE  ...  FALSE  FALSE  FALSE  FALSE  FALSE  FALSE  FALSE  FALSE  FALSE   \n",
       "5  FALSE  ...  FALSE  FALSE  FALSE  FALSE  FALSE  FALSE  FALSE  FALSE  FALSE   \n",
       "\n",
       "      50  \n",
       "0  FALSE  \n",
       "1      2  \n",
       "2      3  \n",
       "3     65  \n",
       "4  FALSE  \n",
       "5  FALSE  \n",
       "\n",
       "[6 rows x 51 columns]"
      ]
     },
     "execution_count": 56,
     "metadata": {},
     "output_type": "execute_result"
    }
   ],
   "source": [
    "RmA2v3.head(6)"
   ]
  },
  {
   "cell_type": "markdown",
   "id": "aa1c5add",
   "metadata": {},
   "source": [
    "## Random Movement under Symmetric Condition (2states-2signals condition)"
   ]
  },
  {
   "cell_type": "code",
   "execution_count": 57,
   "id": "443c2f3a",
   "metadata": {
    "scrolled": false
   },
   "outputs": [
    {
     "data": {
      "image/png": "[encoded data removed]",
      "text/plain": [
       "<Figure size 432x288 with 1 Axes>"
      ]
     },
     "metadata": {
      "needs_background": "light"
     },
     "output_type": "display_data"
    }
   ],
   "source": [
    "chart_games(RmT2v2, RmT2v2e, \"Random Movement under Symmetric Conditions\")"
   ]
  },
  {
   "cell_type": "markdown",
   "id": "aceeb544",
   "metadata": {},
   "source": [
    "<b>Conclusion: With eavesdroppers present in the population, we were able to gain convention in more number of games. </b>"
   ]
  },
  {
   "cell_type": "markdown",
   "id": "eeb5b3f9",
   "metadata": {},
   "source": [
    "## Random Movement under Asymmetric Condition (2states-3signals condition)"
   ]
  },
  {
   "cell_type": "code",
   "execution_count": 58,
   "id": "b08e8b3f",
   "metadata": {},
   "outputs": [
    {
     "data": {
      "image/png": "[encoded data removed]",
      "text/plain": [
       "<Figure size 432x288 with 1 Axes>"
      ]
     },
     "metadata": {
      "needs_background": "light"
     },
     "output_type": "display_data"
    }
   ],
   "source": [
    "chart_games(RmA2v3, RmA2v3e, \"Random Movement under Asymmetric Conditions - Synonym Condition\")"
   ]
  },
  {
   "cell_type": "markdown",
   "id": "fd1b1811",
   "metadata": {},
   "source": [
    "<b>Conclusion: Only with eavesdropping population we were able to gain the 65% threshold in more number of games. </b>"
   ]
  },
  {
   "cell_type": "markdown",
   "id": "3f05aa17",
   "metadata": {},
   "source": [
    "## Random Movement under Asymmetric Condition (3states-2signals condition)"
   ]
  },
  {
   "cell_type": "code",
   "execution_count": 59,
   "id": "131419c3",
   "metadata": {
    "scrolled": false
   },
   "outputs": [
    {
     "data": {
      "image/png": "[encoded data removed]",
      "text/plain": [
       "<Figure size 432x288 with 1 Axes>"
      ]
     },
     "metadata": {
      "needs_background": "light"
     },
     "output_type": "display_data"
    }
   ],
   "source": [
    "chart_games(RmA3v2, RmA3v2e, \"Random Movement under Asymmetric Conditions - Info-Bottleneck Condition\")"
   ]
  },
  {
   "cell_type": "markdown",
   "id": "f9388de2",
   "metadata": {},
   "source": [
    "<b>Conclusion: With eavesdropping population more conventions were observed out of 50 games. </b>"
   ]
  },
  {
   "cell_type": "markdown",
   "id": "85644a0f",
   "metadata": {},
   "source": [
    "<b>Conclusion: Optimisation was observed in all cases where eavesdropping was allowed in terms of experiment runs where convention was established.</b>"
   ]
  },
  {
   "cell_type": "markdown",
   "id": "4fc58219",
   "metadata": {},
   "source": [
    "## 3 States - 2 Signals Condition (Info-Bottleneck Condition)"
   ]
  },
  {
   "cell_type": "markdown",
   "id": "747d850f",
   "metadata": {},
   "source": [
    "## Evaluation Step (ii)        \n",
    "### Average number of interactions/games it took before convention was established. "
   ]
  },
  {
   "cell_type": "markdown",
   "id": "3c39e218",
   "metadata": {},
   "source": [
    "## Random Movement under Symmetric Condition (2states-2signals condition)"
   ]
  },
  {
   "cell_type": "code",
   "execution_count": 60,
   "id": "d5dfe15b",
   "metadata": {
    "scrolled": true
   },
   "outputs": [
    {
     "data": {
      "image/png": "[encoded data removed]",
      "text/plain": [
       "<Figure size 432x288 with 1 Axes>"
      ]
     },
     "metadata": {
      "needs_background": "light"
     },
     "output_type": "display_data"
    }
   ],
   "source": [
    "chart_Avergames(RmT2v2_ng, RmT2v2e_ng,\"Traditional Condition\")"
   ]
  },
  {
   "cell_type": "markdown",
   "id": "33b9231f",
   "metadata": {},
   "source": [
    "<b>Conclusion: With eavesdroppers present in the population, we were able to gain convention with lower number of interaction among the agents.</b>"
   ]
  },
  {
   "cell_type": "markdown",
   "id": "80982473",
   "metadata": {},
   "source": [
    "## Random Movement under Asymmetric Condition (2states-3signals condition)"
   ]
  },
  {
   "cell_type": "code",
   "execution_count": 61,
   "id": "f0eb39d6",
   "metadata": {
    "scrolled": true
   },
   "outputs": [
    {
     "data": {
      "image/png": "[encoded data removed]",
      "text/plain": [
       "<Figure size 432x288 with 1 Axes>"
      ]
     },
     "metadata": {
      "needs_background": "light"
     },
     "output_type": "display_data"
    }
   ],
   "source": [
    "chart_Avergames(RmA2v3_ng, RmA2v3e_ng,\"Asymmetric Condition - Synonyms\")"
   ]
  },
  {
   "cell_type": "markdown",
   "id": "a8ec7009",
   "metadata": {},
   "source": [
    "<b>Conclusion: With eavesdroppers present in the population, we were able to gain convention with lower number of interaction among the agents.</b>"
   ]
  },
  {
   "cell_type": "code",
   "execution_count": 62,
   "id": "7ea8b13a",
   "metadata": {
    "scrolled": true
   },
   "outputs": [
    {
     "data": {
      "image/png": "[encoded data removed]",
      "text/plain": [
       "<Figure size 432x288 with 1 Axes>"
      ]
     },
     "metadata": {
      "needs_background": "light"
     },
     "output_type": "display_data"
    }
   ],
   "source": [
    "chart_Avergames(RmA3v2_ng, RmA3v2e_ng,\"Asymmetric Condition - Info-Bottleneck\")"
   ]
  },
  {
   "cell_type": "markdown",
   "id": "d168ece5",
   "metadata": {},
   "source": [
    "<b>Conclusion: Much like other conditions with eavesdroppers present in the population, we were able to gain convention with lower number of interaction among the agents.</b>"
   ]
  },
  {
   "cell_type": "markdown",
   "id": "9078586f",
   "metadata": {},
   "source": [
    "<h2>Conclusion:</h2><br><b> With eavesdroppers present in the population, we were able to gain convention with lower number of interaction among the agents. At the same point, eavesdropping population outperformed in all conditions when it came to establishing convention. Therefore, both steps of our analysis converges towards proving that optimisation is observed with eavesdroppers when eavesdropping agents are allowed to play the game eventually.</b>"
   ]
  }
 ],
 "metadata": {
  "kernelspec": {
   "display_name": "Python 3 (ipykernel)",
   "language": "python",
   "name": "python3"
  },
  "language_info": {
   "codemirror_mode": {
    "name": "ipython",
    "version": 3
   },
   "file_extension": ".py",
   "mimetype": "text/x-python",
   "name": "python",
   "nbconvert_exporter": "python",
   "pygments_lexer": "ipython3",
   "version": "3.9.12"
  }
 },
 "nbformat": 4,
 "nbformat_minor": 5
}
